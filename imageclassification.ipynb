{
  "cells": [
    {
      "cell_type": "markdown",
      "metadata": {
        "id": "view-in-github",
        "colab_type": "text"
      },
      "source": [
        "<a href=\"https://colab.research.google.com/github/dmosh/deeplearning/blob/main/imageclassification.ipynb\" target=\"_parent\"><img src=\"https://colab.research.google.com/assets/colab-badge.svg\" alt=\"Open In Colab\"/></a>"
      ]
    },
    {
      "cell_type": "code",
      "execution_count": 2,
      "metadata": {
        "id": "4Xio51LPWtMI"
      },
      "outputs": [],
      "source": [
        "#importing the neccessary libraries\n",
        "import glob\n",
        "import cv2 as cv\n",
        "import pandas as pd\n",
        "import seaborn as sns\n",
        "\n",
        "import matplotlib.pyplot as plt\n",
        "import numpy as np\n",
        "import random\n",
        "import os\n",
        "from os import listdir\n",
        "from os.path import isfile, join\n",
        "import pathlib\n",
        "import splitfolders\n",
        "from sklearn.metrics import classification_report, confusion_matrix\n",
        "\n",
        "import tensorflow as tf\n",
        "from tensorflow import keras\n",
        "from keras.layers import Dense, Conv2D, MaxPool2D, Dropout, Flatten, BatchNormalization\n",
        "from keras.models import Sequential, load_model\n",
        "from keras.preprocessing.image import ImageDataGenerator\n",
        "from keras.callbacks import ModelCheckpoint, EarlyStopping, ReduceLROnPlateau\n",
        "from keras.applications.vgg16 import VGG16\n",
        "from google.colab import drive\n",
        "#!pip install split-folders"
      ]
    },
    {
      "cell_type": "code",
      "execution_count": 3,
      "metadata": {
        "colab": {
          "base_uri": "https://localhost:8080/"
        },
        "id": "QICAeuYmDCZI",
        "outputId": "7a27a926-2865-4e5b-8285-606a962337c6"
      },
      "outputs": [
        {
          "output_type": "stream",
          "name": "stdout",
          "text": [
            "Mounted at /content/drive\n"
          ]
        }
      ],
      "source": [
        "#mount drive\n",
        "drive.mount(\"/content/drive\")"
      ]
    },
    {
      "cell_type": "code",
      "execution_count": 4,
      "metadata": {
        "id": "rctmTXUBYaN-"
      },
      "outputs": [],
      "source": [
        "#load and read the images\n",
        "url = \"/content/drive/MyDrive/Colab Notebooks/deeplearning/dataset1/known_images\"\n",
        "image_dir = pathlib.Path(url)\n"
      ]
    },
    {
      "cell_type": "code",
      "execution_count": 5,
      "metadata": {
        "colab": {
          "base_uri": "https://localhost:8080/"
        },
        "id": "dTmewEf2oSZf",
        "outputId": "08256faa-0c77-4e47-9d79-69c43d73e7ac"
      },
      "outputs": [
        {
          "output_type": "stream",
          "name": "stderr",
          "text": [
            "Copying files: 715 files [00:08, 85.83 files/s] \n"
          ]
        }
      ],
      "source": [
        "splitfolders.ratio(image_dir, output='imgs', seed=123, ratio=(.8,.2), group_prefix=None)"
      ]
    },
    {
      "cell_type": "code",
      "execution_count": 6,
      "metadata": {
        "id": "335LAhrnEJUA"
      },
      "outputs": [],
      "source": [
        "normal = [fn for fn in os.listdir(f'{image_dir}/normal') if fn.endswith('.png')]\n",
        "sick = [fn for fn in os.listdir(f'{image_dir}/sick') if fn.endswith('.png')]\n",
        "\n",
        "image = [normal, sick]\n",
        "image_class = []\n",
        "\n",
        "for i in os.listdir('imgs/train'):\n",
        "  image_class+=[i]\n",
        "image_class.sort()"
      ]
    },
    {
      "cell_type": "code",
      "execution_count": 7,
      "metadata": {
        "colab": {
          "base_uri": "https://localhost:8080/"
        },
        "id": "zU76G7xqxecR",
        "outputId": "4be9966f-2f0b-4968-d57a-cfee495b2e52"
      },
      "outputs": [
        {
          "output_type": "stream",
          "name": "stdout",
          "text": [
            "Total images: 715\n",
            "Total number of classes: 2\n",
            "Total normal images: 364\n",
            "Total sick images: 351\n"
          ]
        }
      ],
      "source": [
        "image_count = len(list(image_dir.glob('*/*.png')))\n",
        "print(f'Total images: {image_count}')\n",
        "print(f'Total number of classes: {len(image_class)}')\n",
        "count = 0\n",
        "images_count = []\n",
        "for x in image_class:\n",
        "  print(f'Total {x} images: {len(image[count])}')\n",
        "  images_count.append(len(image[count]))\n",
        "  count += 1\n"
      ]
    },
    {
      "cell_type": "code",
      "execution_count": 8,
      "metadata": {
        "id": "UbUQg29IVQqL"
      },
      "outputs": [],
      "source": [
        "def load_random_img(dir, label):\n",
        "  plt.figure(figsize=(10,10))\n",
        "  i=0\n",
        "  for label in image_class:\n",
        "    i+=1\n",
        "    plt.subplot(1, 5, i)\n",
        "    file = random.choice(os.listdir(f'{dir}/{label}'))\n",
        "    image_path = os.path.join(f'{dir}/{label}', file)\n",
        "    img=cv.imread(image_path)\n",
        "    plt.title(label)\n",
        "    plt.imshow(img)\n",
        "    plt.grid(None)\n",
        "    plt.axis('off')"
      ]
    },
    {
      "cell_type": "markdown",
      "metadata": {
        "id": "q-oScCUCZRhB"
      },
      "source": [
        "image preprocessing"
      ]
    },
    {
      "cell_type": "code",
      "execution_count": 9,
      "metadata": {
        "id": "lt8V_9wWZQQB"
      },
      "outputs": [],
      "source": [
        "batch_size = 32\n",
        "img_height, img_width = 224, 224\n",
        "input_shape = (img_height, img_width, 3)"
      ]
    },
    {
      "cell_type": "code",
      "execution_count": 10,
      "metadata": {
        "id": "s2FeC-CnZmSC"
      },
      "outputs": [],
      "source": [
        "datagen = ImageDataGenerator(rescale=1./255)"
      ]
    },
    {
      "cell_type": "code",
      "execution_count": 11,
      "metadata": {
        "colab": {
          "base_uri": "https://localhost:8080/"
        },
        "id": "O59r3WcVZ9Nr",
        "outputId": "e59d2d3e-29f9-4a4a-9f09-d2c171744167"
      },
      "outputs": [
        {
          "output_type": "stream",
          "name": "stdout",
          "text": [
            "Found 571 images belonging to 2 classes.\n",
            "Found 144 images belonging to 2 classes.\n",
            "Found 50 images belonging to 2 classes.\n"
          ]
        }
      ],
      "source": [
        "train_ds = datagen.flow_from_directory(\n",
        "    'imgs/train',\n",
        "    target_size = (img_height, img_width),\n",
        "    batch_size = batch_size,\n",
        "    color_mode=\"rgb\",\n",
        "    subset = \"training\",\n",
        "    class_mode='categorical',\n",
        "    shuffle=True,\n",
        "    seed = 42)\n",
        "\n",
        "val_ds = datagen.flow_from_directory(\n",
        "    'imgs/val',\n",
        "    target_size = (img_height, img_width),\n",
        "    batch_size = batch_size,\n",
        "    color_mode=\"rgb\",\n",
        "    class_mode='categorical',\n",
        "    shuffle=False,\n",
        "    seed = 42)\n",
        "\n",
        "test_ds = datagen.flow_from_directory(\n",
        "    'imgs/test',\n",
        "    target_size = (img_height, img_width),\n",
        "    batch_size = 1,\n",
        "    color_mode=\"rgb\",\n",
        "    class_mode=None,\n",
        "    shuffle=False,\n",
        "    seed=42)\n",
        "\n"
      ]
    },
    {
      "cell_type": "code",
      "execution_count": 12,
      "metadata": {
        "id": "Gio_ms29fBga"
      },
      "outputs": [],
      "source": [
        "def plot_train_history(history):\n",
        "    plt.figure(figsize=(15,5))\n",
        "    plt.subplot(1,2,1)\n",
        "    plt.plot(history.history['accuracy'])\n",
        "    plt.plot(history.history['val_accuracy'])\n",
        "    plt.title('Model accuracy')\n",
        "    plt.ylabel('accuracy')\n",
        "    plt.xlabel('epoch')\n",
        "    plt.legend(['train', 'validation'], loc='upper left')\n",
        "    \n",
        "    plt.subplot(1,2,2)\n",
        "    plt.plot(history.history['loss'])\n",
        "    plt.plot(history.history['val_loss'])\n",
        "    plt.title('Model loss')\n",
        "    plt.ylabel('loss')\n",
        "    plt.xlabel('epoch')\n",
        "    plt.legend(['train', 'validation'], loc='upper left')\n",
        "    plt.show()"
      ]
    },
    {
      "cell_type": "markdown",
      "metadata": {
        "id": "C1UljHVmz9B0"
      },
      "source": [
        "VGG16 Model"
      ]
    },
    {
      "cell_type": "code",
      "execution_count": 13,
      "metadata": {
        "colab": {
          "base_uri": "https://localhost:8080/"
        },
        "id": "4J8JLo8XceSk",
        "outputId": "b4967438-3b05-44b9-df27-9ebedb611612"
      },
      "outputs": [
        {
          "output_type": "stream",
          "name": "stdout",
          "text": [
            "Downloading data from https://storage.googleapis.com/tensorflow/keras-applications/vgg16/vgg16_weights_tf_dim_ordering_tf_kernels_notop.h5\n",
            "58892288/58889256 [==============================] - 0s 0us/step\n",
            "58900480/58889256 [==============================] - 0s 0us/step\n"
          ]
        }
      ],
      "source": [
        "vgg16 = VGG16(weights=\"imagenet\", include_top=False, input_shape=input_shape)\n",
        "vgg16.trainable = False\n",
        "inputs = tf.keras.Input(input_shape)\n",
        "x = vgg16(inputs, training=False)\n",
        "x = tf.keras.layers.GlobalAveragePooling2D()(x)\n",
        "x = tf.keras.layers.Dense(1024, activation='relu')(x)\n",
        "x = tf.keras.layers.Dense(2, activation='softmax')(x)\n",
        "model_vgg16 = tf.keras.Model(inputs, x)"
      ]
    },
    {
      "cell_type": "code",
      "execution_count": 14,
      "metadata": {
        "colab": {
          "base_uri": "https://localhost:8080/"
        },
        "id": "COBjjzi_d-7z",
        "outputId": "cfbaf1ed-5f7a-4858-baf4-7164bee218f3"
      },
      "outputs": [
        {
          "output_type": "stream",
          "name": "stdout",
          "text": [
            "Model: \"model\"\n",
            "_________________________________________________________________\n",
            " Layer (type)                Output Shape              Param #   \n",
            "=================================================================\n",
            " input_2 (InputLayer)        [(None, 224, 224, 3)]     0         \n",
            "                                                                 \n",
            " vgg16 (Functional)          (None, 7, 7, 512)         14714688  \n",
            "                                                                 \n",
            " global_average_pooling2d (G  (None, 512)              0         \n",
            " lobalAveragePooling2D)                                          \n",
            "                                                                 \n",
            " dense (Dense)               (None, 1024)              525312    \n",
            "                                                                 \n",
            " dense_1 (Dense)             (None, 2)                 2050      \n",
            "                                                                 \n",
            "=================================================================\n",
            "Total params: 15,242,050\n",
            "Trainable params: 527,362\n",
            "Non-trainable params: 14,714,688\n",
            "_________________________________________________________________\n"
          ]
        }
      ],
      "source": [
        "model_vgg16.compile(optimizer='adam', loss='categorical_crossentropy', metrics=['accuracy'])\n",
        "model_vgg16.summary()"
      ]
    },
    {
      "cell_type": "code",
      "execution_count": 15,
      "metadata": {
        "id": "Bp0_klH5eIN0"
      },
      "outputs": [],
      "source": [
        "checkpointer = ModelCheckpoint(filepath='/content/drive/MyDrive/Colab Notebooks/deeplearning/saved_models/cnn_model.hdf5', \n",
        "                               monitor='val_accuracy', mode='max',\n",
        "                               verbose=1, save_best_only=True)\n",
        "early_stopping = EarlyStopping(monitor='val_loss', mode='min', verbose=1, patience=3)\n",
        "reduce_lr = ReduceLROnPlateau(monitor='val_loss', factor=0.2,patience=2, min_lr=0.001)\n",
        "callbacks=[early_stopping, reduce_lr, checkpointer]"
      ]
    },
    {
      "cell_type": "code",
      "execution_count": 16,
      "metadata": {
        "colab": {
          "base_uri": "https://localhost:8080/"
        },
        "id": "6H5A1Ackec_Y",
        "outputId": "0ee325af-c803-4d24-da96-a425b068374a"
      },
      "outputs": [
        {
          "output_type": "stream",
          "name": "stdout",
          "text": [
            "Epoch 1/30\n",
            "18/18 [==============================] - ETA: 0s - loss: 0.5723 - accuracy: 0.6918\n",
            "Epoch 1: val_accuracy improved from -inf to 0.63194, saving model to /content/drive/MyDrive/Colab Notebooks/deeplearning/saved_models/cnn_model.hdf5\n",
            "18/18 [==============================] - 23s 524ms/step - loss: 0.5723 - accuracy: 0.6918 - val_loss: 0.5373 - val_accuracy: 0.6319 - lr: 0.0010\n",
            "Epoch 2/30\n",
            "18/18 [==============================] - ETA: 0s - loss: 0.4053 - accuracy: 0.8424\n",
            "Epoch 2: val_accuracy improved from 0.63194 to 0.90278, saving model to /content/drive/MyDrive/Colab Notebooks/deeplearning/saved_models/cnn_model.hdf5\n",
            "18/18 [==============================] - 4s 241ms/step - loss: 0.4053 - accuracy: 0.8424 - val_loss: 0.3543 - val_accuracy: 0.9028 - lr: 0.0010\n",
            "Epoch 3/30\n",
            "18/18 [==============================] - ETA: 0s - loss: 0.2874 - accuracy: 0.9229\n",
            "Epoch 3: val_accuracy did not improve from 0.90278\n",
            "18/18 [==============================] - 4s 201ms/step - loss: 0.2874 - accuracy: 0.9229 - val_loss: 0.2962 - val_accuracy: 0.8889 - lr: 0.0010\n",
            "Epoch 4/30\n",
            "18/18 [==============================] - ETA: 0s - loss: 0.2554 - accuracy: 0.9107\n",
            "Epoch 4: val_accuracy did not improve from 0.90278\n",
            "18/18 [==============================] - 4s 206ms/step - loss: 0.2554 - accuracy: 0.9107 - val_loss: 0.2959 - val_accuracy: 0.8819 - lr: 0.0010\n",
            "Epoch 5/30\n",
            "18/18 [==============================] - ETA: 0s - loss: 0.2161 - accuracy: 0.9387\n",
            "Epoch 5: val_accuracy improved from 0.90278 to 0.93750, saving model to /content/drive/MyDrive/Colab Notebooks/deeplearning/saved_models/cnn_model.hdf5\n",
            "18/18 [==============================] - 4s 240ms/step - loss: 0.2161 - accuracy: 0.9387 - val_loss: 0.2097 - val_accuracy: 0.9375 - lr: 0.0010\n",
            "Epoch 6/30\n",
            "18/18 [==============================] - ETA: 0s - loss: 0.1830 - accuracy: 0.9457\n",
            "Epoch 6: val_accuracy did not improve from 0.93750\n",
            "18/18 [==============================] - 4s 207ms/step - loss: 0.1830 - accuracy: 0.9457 - val_loss: 0.1945 - val_accuracy: 0.9375 - lr: 0.0010\n",
            "Epoch 7/30\n",
            "18/18 [==============================] - ETA: 0s - loss: 0.1556 - accuracy: 0.9615\n",
            "Epoch 7: val_accuracy did not improve from 0.93750\n",
            "18/18 [==============================] - 4s 206ms/step - loss: 0.1556 - accuracy: 0.9615 - val_loss: 0.1883 - val_accuracy: 0.9306 - lr: 0.0010\n",
            "Epoch 8/30\n",
            "18/18 [==============================] - ETA: 0s - loss: 0.1585 - accuracy: 0.9475\n",
            "Epoch 8: val_accuracy did not improve from 0.93750\n",
            "18/18 [==============================] - 4s 212ms/step - loss: 0.1585 - accuracy: 0.9475 - val_loss: 0.2156 - val_accuracy: 0.9167 - lr: 0.0010\n",
            "Epoch 9/30\n",
            "18/18 [==============================] - ETA: 0s - loss: 0.1288 - accuracy: 0.9597\n",
            "Epoch 9: val_accuracy did not improve from 0.93750\n",
            "18/18 [==============================] - 4s 209ms/step - loss: 0.1288 - accuracy: 0.9597 - val_loss: 0.1642 - val_accuracy: 0.9375 - lr: 0.0010\n",
            "Epoch 10/30\n",
            "18/18 [==============================] - ETA: 0s - loss: 0.1283 - accuracy: 0.9597\n",
            "Epoch 10: val_accuracy did not improve from 0.93750\n",
            "18/18 [==============================] - 4s 213ms/step - loss: 0.1283 - accuracy: 0.9597 - val_loss: 0.1766 - val_accuracy: 0.9306 - lr: 0.0010\n",
            "Epoch 11/30\n",
            "18/18 [==============================] - ETA: 0s - loss: 0.1162 - accuracy: 0.9632\n",
            "Epoch 11: val_accuracy did not improve from 0.93750\n",
            "18/18 [==============================] - 4s 212ms/step - loss: 0.1162 - accuracy: 0.9632 - val_loss: 0.1678 - val_accuracy: 0.9306 - lr: 0.0010\n",
            "Epoch 12/30\n",
            "18/18 [==============================] - ETA: 0s - loss: 0.1158 - accuracy: 0.9632\n",
            "Epoch 12: val_accuracy did not improve from 0.93750\n",
            "18/18 [==============================] - 4s 213ms/step - loss: 0.1158 - accuracy: 0.9632 - val_loss: 0.1523 - val_accuracy: 0.9375 - lr: 0.0010\n",
            "Epoch 13/30\n",
            "18/18 [==============================] - ETA: 0s - loss: 0.1048 - accuracy: 0.9702\n",
            "Epoch 13: val_accuracy improved from 0.93750 to 0.94444, saving model to /content/drive/MyDrive/Colab Notebooks/deeplearning/saved_models/cnn_model.hdf5\n",
            "18/18 [==============================] - 5s 265ms/step - loss: 0.1048 - accuracy: 0.9702 - val_loss: 0.1405 - val_accuracy: 0.9444 - lr: 0.0010\n",
            "Epoch 14/30\n",
            "18/18 [==============================] - ETA: 0s - loss: 0.1038 - accuracy: 0.9667\n",
            "Epoch 14: val_accuracy improved from 0.94444 to 0.95833, saving model to /content/drive/MyDrive/Colab Notebooks/deeplearning/saved_models/cnn_model.hdf5\n",
            "18/18 [==============================] - 4s 229ms/step - loss: 0.1038 - accuracy: 0.9667 - val_loss: 0.1467 - val_accuracy: 0.9583 - lr: 0.0010\n",
            "Epoch 15/30\n",
            "18/18 [==============================] - ETA: 0s - loss: 0.0998 - accuracy: 0.9685\n",
            "Epoch 15: val_accuracy did not improve from 0.95833\n",
            "18/18 [==============================] - 4s 215ms/step - loss: 0.0998 - accuracy: 0.9685 - val_loss: 0.1571 - val_accuracy: 0.9444 - lr: 0.0010\n",
            "Epoch 16/30\n",
            "18/18 [==============================] - ETA: 0s - loss: 0.0943 - accuracy: 0.9685\n",
            "Epoch 16: val_accuracy did not improve from 0.95833\n",
            "18/18 [==============================] - 4s 216ms/step - loss: 0.0943 - accuracy: 0.9685 - val_loss: 0.1359 - val_accuracy: 0.9444 - lr: 0.0010\n",
            "Epoch 17/30\n",
            "18/18 [==============================] - ETA: 0s - loss: 0.0918 - accuracy: 0.9685\n",
            "Epoch 17: val_accuracy did not improve from 0.95833\n",
            "18/18 [==============================] - 4s 218ms/step - loss: 0.0918 - accuracy: 0.9685 - val_loss: 0.1422 - val_accuracy: 0.9375 - lr: 0.0010\n",
            "Epoch 18/30\n",
            "18/18 [==============================] - ETA: 0s - loss: 0.0870 - accuracy: 0.9667\n",
            "Epoch 18: val_accuracy did not improve from 0.95833\n",
            "18/18 [==============================] - 4s 219ms/step - loss: 0.0870 - accuracy: 0.9667 - val_loss: 0.1878 - val_accuracy: 0.9236 - lr: 0.0010\n",
            "Epoch 19/30\n",
            "18/18 [==============================] - ETA: 0s - loss: 0.1131 - accuracy: 0.9597\n",
            "Epoch 19: val_accuracy did not improve from 0.95833\n",
            "18/18 [==============================] - 4s 220ms/step - loss: 0.1131 - accuracy: 0.9597 - val_loss: 0.1334 - val_accuracy: 0.9514 - lr: 0.0010\n",
            "Epoch 20/30\n",
            "18/18 [==============================] - ETA: 0s - loss: 0.0762 - accuracy: 0.9772\n",
            "Epoch 20: val_accuracy did not improve from 0.95833\n",
            "18/18 [==============================] - 4s 219ms/step - loss: 0.0762 - accuracy: 0.9772 - val_loss: 0.1906 - val_accuracy: 0.9306 - lr: 0.0010\n",
            "Epoch 21/30\n",
            "18/18 [==============================] - ETA: 0s - loss: 0.0675 - accuracy: 0.9755\n",
            "Epoch 21: val_accuracy improved from 0.95833 to 0.97222, saving model to /content/drive/MyDrive/Colab Notebooks/deeplearning/saved_models/cnn_model.hdf5\n",
            "18/18 [==============================] - 5s 271ms/step - loss: 0.0675 - accuracy: 0.9755 - val_loss: 0.1099 - val_accuracy: 0.9722 - lr: 0.0010\n",
            "Epoch 22/30\n",
            "18/18 [==============================] - ETA: 0s - loss: 0.0606 - accuracy: 0.9790\n",
            "Epoch 22: val_accuracy did not improve from 0.97222\n",
            "18/18 [==============================] - 4s 223ms/step - loss: 0.0606 - accuracy: 0.9790 - val_loss: 0.1134 - val_accuracy: 0.9444 - lr: 0.0010\n",
            "Epoch 23/30\n",
            "18/18 [==============================] - ETA: 0s - loss: 0.0684 - accuracy: 0.9790\n",
            "Epoch 23: val_accuracy did not improve from 0.97222\n",
            "18/18 [==============================] - 4s 228ms/step - loss: 0.0684 - accuracy: 0.9790 - val_loss: 0.1653 - val_accuracy: 0.9306 - lr: 0.0010\n",
            "Epoch 24/30\n",
            "18/18 [==============================] - ETA: 0s - loss: 0.0595 - accuracy: 0.9790\n",
            "Epoch 24: val_accuracy improved from 0.97222 to 0.97917, saving model to /content/drive/MyDrive/Colab Notebooks/deeplearning/saved_models/cnn_model.hdf5\n",
            "18/18 [==============================] - 5s 270ms/step - loss: 0.0595 - accuracy: 0.9790 - val_loss: 0.1009 - val_accuracy: 0.9792 - lr: 0.0010\n",
            "Epoch 25/30\n",
            "18/18 [==============================] - ETA: 0s - loss: 0.0509 - accuracy: 0.9807\n",
            "Epoch 25: val_accuracy did not improve from 0.97917\n",
            "18/18 [==============================] - 4s 233ms/step - loss: 0.0509 - accuracy: 0.9807 - val_loss: 0.0998 - val_accuracy: 0.9792 - lr: 0.0010\n",
            "Epoch 26/30\n",
            "18/18 [==============================] - ETA: 0s - loss: 0.0512 - accuracy: 0.9807\n",
            "Epoch 26: val_accuracy did not improve from 0.97917\n",
            "18/18 [==============================] - 4s 237ms/step - loss: 0.0512 - accuracy: 0.9807 - val_loss: 0.0952 - val_accuracy: 0.9792 - lr: 0.0010\n",
            "Epoch 27/30\n",
            "18/18 [==============================] - ETA: 0s - loss: 0.0869 - accuracy: 0.9685\n",
            "Epoch 27: val_accuracy did not improve from 0.97917\n",
            "18/18 [==============================] - 4s 240ms/step - loss: 0.0869 - accuracy: 0.9685 - val_loss: 0.1654 - val_accuracy: 0.9375 - lr: 0.0010\n",
            "Epoch 28/30\n",
            "18/18 [==============================] - ETA: 0s - loss: 0.0716 - accuracy: 0.9720\n",
            "Epoch 28: val_accuracy did not improve from 0.97917\n",
            "18/18 [==============================] - 4s 239ms/step - loss: 0.0716 - accuracy: 0.9720 - val_loss: 0.1128 - val_accuracy: 0.9514 - lr: 0.0010\n",
            "Epoch 29/30\n",
            "18/18 [==============================] - ETA: 0s - loss: 0.0481 - accuracy: 0.9825\n",
            "Epoch 29: val_accuracy did not improve from 0.97917\n",
            "18/18 [==============================] - 4s 237ms/step - loss: 0.0481 - accuracy: 0.9825 - val_loss: 0.1035 - val_accuracy: 0.9653 - lr: 0.0010\n",
            "Epoch 29: early stopping\n"
          ]
        }
      ],
      "source": [
        "learning1 = model_vgg16.fit(train_ds, epochs = 30, validation_data = val_ds, callbacks=callbacks)"
      ]
    },
    {
      "cell_type": "code",
      "execution_count": 17,
      "metadata": {
        "colab": {
          "base_uri": "https://localhost:8080/",
          "height": 341
        },
        "id": "0gEoM7C1spl0",
        "outputId": "41066bad-eefd-4c03-c41a-6b6bed4d661e"
      },
      "outputs": [
        {
          "output_type": "display_data",
          "data": {
            "text/plain": [
              "<Figure size 1080x360 with 2 Axes>"
            ],
            "image/png": "[encoded data removed]"
          },
          "metadata": {
            "needs_background": "light"
          }
        }
      ],
      "source": [
        "model_vgg16.load_weights('/content/drive/MyDrive/Colab Notebooks/deeplearning/saved_models/cnn_model.hdf5')\n",
        "plot_train_history(learning1)"
      ]
    },
    {
      "cell_type": "code",
      "execution_count": null,
      "metadata": {
        "id": "ngQ-7Qh5tJQA"
      },
      "outputs": [],
      "source": []
    },
    {
      "cell_type": "code",
      "execution_count": 18,
      "metadata": {
        "colab": {
          "base_uri": "https://localhost:8080/"
        },
        "id": "H2OFg13htyyn",
        "outputId": "e35ffdd1-4b5a-4eb3-86b4-c742413b0721"
      },
      "outputs": [
        {
          "output_type": "stream",
          "name": "stdout",
          "text": [
            "50/50 [==============================] - 0s 5ms/step - loss: 0.0000e+00 - accuracy: 0.0000e+00\n",
            "Model 2 VGG16 Loss: 0.0, Accuracy: 0.0\n"
          ]
        }
      ],
      "source": [
        "score1 = model_vgg16.evaluate(test_ds, verbose=1)\n",
        "print(f'Model 2 VGG16 Loss: {score1[0]}, Accuracy: {score1[1]*100}')"
      ]
    },
    {
      "cell_type": "markdown",
      "metadata": {
        "id": "ci-RkhG4urLJ"
      },
      "source": [
        "Finetune the model"
      ]
    },
    {
      "cell_type": "code",
      "execution_count": 19,
      "metadata": {
        "id": "kCLJysByuqHr"
      },
      "outputs": [],
      "source": [
        "vgg16.trainable = True\n",
        "model_vgg16.compile(optimizer=keras.optimizers.Adam(1e-5),\n",
        "              loss='categorical_crossentropy', metrics=['accuracy'])"
      ]
    },
    {
      "cell_type": "code",
      "execution_count": 20,
      "metadata": {
        "colab": {
          "base_uri": "https://localhost:8080/"
        },
        "id": "GRdNPhUyuww_",
        "outputId": "d2b3bb28-ef0d-487d-8d7a-74ea7bbed477"
      },
      "outputs": [
        {
          "output_type": "stream",
          "name": "stdout",
          "text": [
            "Epoch 1/10\n",
            "18/18 [==============================] - ETA: 0s - loss: 0.2073 - accuracy: 0.9159\n",
            "Epoch 1: val_accuracy did not improve from 0.97917\n",
            "18/18 [==============================] - 21s 817ms/step - loss: 0.2073 - accuracy: 0.9159 - val_loss: 0.1445 - val_accuracy: 0.9444 - lr: 1.0000e-05\n",
            "Epoch 2/10\n",
            "18/18 [==============================] - ETA: 0s - loss: 0.0563 - accuracy: 0.9807\n",
            "Epoch 2: val_accuracy did not improve from 0.97917\n",
            "18/18 [==============================] - 10s 582ms/step - loss: 0.0563 - accuracy: 0.9807 - val_loss: 0.0923 - val_accuracy: 0.9792 - lr: 1.0000e-05\n",
            "Epoch 3/10\n",
            "18/18 [==============================] - ETA: 0s - loss: 0.0216 - accuracy: 0.9982\n",
            "Epoch 3: val_accuracy did not improve from 0.97917\n",
            "18/18 [==============================] - 10s 563ms/step - loss: 0.0216 - accuracy: 0.9982 - val_loss: 0.0626 - val_accuracy: 0.9792 - lr: 1.0000e-05\n",
            "Epoch 4/10\n",
            "18/18 [==============================] - ETA: 0s - loss: 0.0081 - accuracy: 1.0000\n",
            "Epoch 4: val_accuracy did not improve from 0.97917\n",
            "18/18 [==============================] - 10s 546ms/step - loss: 0.0081 - accuracy: 1.0000 - val_loss: 0.0735 - val_accuracy: 0.9722 - lr: 1.0000e-05\n",
            "Epoch 5/10\n",
            "18/18 [==============================] - ETA: 0s - loss: 0.0054 - accuracy: 0.9982\n",
            "Epoch 5: val_accuracy did not improve from 0.97917\n",
            "18/18 [==============================] - 10s 538ms/step - loss: 0.0054 - accuracy: 0.9982 - val_loss: 0.0683 - val_accuracy: 0.9722 - lr: 1.0000e-05\n",
            "Epoch 6/10\n",
            "18/18 [==============================] - ETA: 0s - loss: 0.0027 - accuracy: 1.0000\n",
            "Epoch 6: val_accuracy did not improve from 0.97917\n",
            "18/18 [==============================] - 10s 534ms/step - loss: 0.0027 - accuracy: 1.0000 - val_loss: 0.0545 - val_accuracy: 0.9792 - lr: 1.0000e-05\n",
            "Epoch 7/10\n",
            "18/18 [==============================] - ETA: 0s - loss: 0.0020 - accuracy: 1.0000\n",
            "Epoch 7: val_accuracy did not improve from 0.97917\n",
            "18/18 [==============================] - 10s 530ms/step - loss: 0.0020 - accuracy: 1.0000 - val_loss: 0.0570 - val_accuracy: 0.9792 - lr: 1.0000e-05\n",
            "Epoch 8/10\n",
            "18/18 [==============================] - ETA: 0s - loss: 0.0016 - accuracy: 1.0000\n",
            "Epoch 8: val_accuracy did not improve from 0.97917\n",
            "18/18 [==============================] - 10s 533ms/step - loss: 0.0016 - accuracy: 1.0000 - val_loss: 0.0620 - val_accuracy: 0.9792 - lr: 1.0000e-05\n",
            "Epoch 9/10\n",
            "18/18 [==============================] - ETA: 0s - loss: 0.0011 - accuracy: 1.0000\n",
            "Epoch 9: val_accuracy did not improve from 0.97917\n",
            "18/18 [==============================] - 10s 536ms/step - loss: 0.0011 - accuracy: 1.0000 - val_loss: 0.0587 - val_accuracy: 0.9792 - lr: 1.0000e-05\n",
            "Epoch 9: early stopping\n"
          ]
        }
      ],
      "source": [
        "learning2 = model_vgg16.fit(train_ds, epochs = 10, validation_data = val_ds, callbacks=callbacks)"
      ]
    },
    {
      "cell_type": "code",
      "execution_count": 21,
      "metadata": {
        "id": "EZqC_v2vvkpf"
      },
      "outputs": [],
      "source": [
        "model_vgg16.load_weights('/content/drive/MyDrive/Colab Notebooks/deeplearning/saved_models/cnn_model.hdf5')"
      ]
    },
    {
      "cell_type": "code",
      "execution_count": 22,
      "metadata": {
        "colab": {
          "base_uri": "https://localhost:8080/"
        },
        "id": "Lh7ypS0u1QB8",
        "outputId": "aac5aed3-7e7f-4ddf-bc17-8268ac9ac60c"
      },
      "outputs": [
        {
          "output_type": "stream",
          "name": "stdout",
          "text": [
            "50/50 [==============================] - 1s 11ms/step\n",
            "Model 2 VGG16 Loss: 0.0, Accuracy: 0.0\n",
            "Model 2 VGG16 Fine-tuned Loss: [0.99010974 0.00989027], Accuracy: [1.7696326e-03 9.9998238e+01]\n"
          ]
        }
      ],
      "source": [
        "score2 = model_vgg16.predict(test_ds, verbose=1)\n",
        "#print(f'Model 1 Vanilla Loss: {score1[0]}, Accuracy: {score1[1]*100}')\n",
        "print(f'Model 2 VGG16 Loss: {score1[0]}, Accuracy: {score1[1]*100}')\n",
        "print(f'Model 2 VGG16 Fine-tuned Loss: {score2[0]}, Accuracy: {score2[1]*100}')"
      ]
    },
    {
      "cell_type": "code",
      "execution_count": 23,
      "metadata": {
        "id": "yVfvM3Xf1fn9"
      },
      "outputs": [],
      "source": [
        "Y_pred = model_vgg16.predict(test_ds)"
      ]
    },
    {
      "cell_type": "code",
      "source": [
        "predicted_class_indices=np.argmax(Y_pred,axis=1)"
      ],
      "metadata": {
        "id": "Z2NBIYpQ4ZkO"
      },
      "execution_count": 24,
      "outputs": []
    },
    {
      "cell_type": "code",
      "source": [
        "labels = (train_ds.class_indices)\n",
        "labels = dict((v,k) for k,v in labels.items())\n",
        "predictions = [labels[k] for k in predicted_class_indices]"
      ],
      "metadata": {
        "id": "Cyx4ksyi4g_S"
      },
      "execution_count": 25,
      "outputs": []
    },
    {
      "cell_type": "code",
      "source": [
        "filenames=test_ds.filenames\n",
        "results=pd.DataFrame({\"Filename\":filenames,\n",
        "                      \"Predictions\":predictions})\n",
        "results.to_csv(\"/content/drive/MyDrive/Colab Notebooks/deeplearning/Unkown_Image_pred.csv\",index=False, header=[\"Epuret Moses Obuya\", \"2021/HD05/2291\"])"
      ],
      "metadata": {
        "id": "KweyLs5G4pYG"
      },
      "execution_count": 32,
      "outputs": []
    },
    {
      "cell_type": "code",
      "execution_count": 27,
      "metadata": {
        "colab": {
          "base_uri": "https://localhost:8080/",
          "height": 731
        },
        "id": "lh8NKjtB1oJa",
        "outputId": "8db443cc-c8df-4bfc-b510-98b1566ea0bf"
      },
      "outputs": [
        {
          "output_type": "display_data",
          "data": {
            "text/plain": [
              "<Figure size 864x864 with 2 Axes>"
            ],
            "image/png": "[encoded data removed]"
          },
          "metadata": {
            "needs_background": "light"
          }
        }
      ],
      "source": [
        "y_pred = np.argmax(Y_pred, axis=1)\n",
        "confusion_mtx = confusion_matrix(y_pred, test_ds.classes)\n",
        "f,ax = plt.subplots(figsize=(12, 12))\n",
        "sns.heatmap(confusion_mtx, annot=True, \n",
        "            linewidths=0.01,\n",
        "            linecolor=\"white\", \n",
        "            fmt= '.1f',ax=ax,)\n",
        "sns.color_palette(\"rocket\", as_cmap=True)\n",
        "\n",
        "plt.xlabel(\"Predicted Label\")\n",
        "plt.ylabel(\"True Label\")\n",
        "ax.xaxis.set_ticklabels(test_ds.class_indices)\n",
        "ax.yaxis.set_ticklabels(image_class)\n",
        "plt.title(\"Confusion Matrix\")\n",
        "plt.show()"
      ]
    },
    {
      "cell_type": "code",
      "execution_count": 28,
      "metadata": {
        "colab": {
          "base_uri": "https://localhost:8080/",
          "height": 330
        },
        "id": "GwFwI3pp2IVg",
        "outputId": "50071eef-ed0e-4fdd-a5c6-956b38ecb856"
      },
      "outputs": [
        {
          "output_type": "stream",
          "name": "stderr",
          "text": [
            "/usr/local/lib/python3.7/dist-packages/sklearn/metrics/_classification.py:1318: UndefinedMetricWarning: Recall and F-score are ill-defined and being set to 0.0 in labels with no true samples. Use `zero_division` parameter to control this behavior.\n",
            "  _warn_prf(average, modifier, msg_start, len(result))\n",
            "/usr/local/lib/python3.7/dist-packages/sklearn/metrics/_classification.py:1318: UndefinedMetricWarning: Recall and F-score are ill-defined and being set to 0.0 in labels with no true samples. Use `zero_division` parameter to control this behavior.\n",
            "  _warn_prf(average, modifier, msg_start, len(result))\n",
            "/usr/local/lib/python3.7/dist-packages/sklearn/metrics/_classification.py:1318: UndefinedMetricWarning: Recall and F-score are ill-defined and being set to 0.0 in labels with no true samples. Use `zero_division` parameter to control this behavior.\n",
            "  _warn_prf(average, modifier, msg_start, len(result))\n"
          ]
        },
        {
          "output_type": "execute_result",
          "data": {
            "text/plain": [
              "              precision  recall  f1-score  support\n",
              "normal             0.00    0.00  0.000000     0.00\n",
              "sick               1.00    0.48  0.648649    50.00\n",
              "accuracy           0.48    0.48  0.480000     0.48\n",
              "macro avg          0.50    0.24  0.324324    50.00\n",
              "weighted avg       1.00    0.48  0.648649    50.00"
            ],
            "text/html": [
              "\n",
              "  <div id=\"df-1b4121de-0913-464f-bbc0-eb2fd9348bab\">\n",
              "    <div class=\"colab-df-container\">\n",
              "      <div>\n",
              "<style scoped>\n",
              "    .dataframe tbody tr th:only-of-type {\n",
              "        vertical-align: middle;\n",
              "    }\n",
              "\n",
              "    .dataframe tbody tr th {\n",
              "        vertical-align: top;\n",
              "    }\n",
              "\n",
              "    .dataframe thead th {\n",
              "        text-align: right;\n",
              "    }\n",
              "</style>\n",
              "<table border=\"1\" class=\"dataframe\">\n",
              "  <thead>\n",
              "    <tr style=\"text-align: right;\">\n",
              "      <th></th>\n",
              "      <th>precision</th>\n",
              "      <th>recall</th>\n",
              "      <th>f1-score</th>\n",
              "      <th>support</th>\n",
              "    </tr>\n",
              "  </thead>\n",
              "  <tbody>\n",
              "    <tr>\n",
              "      <th>normal</th>\n",
              "      <td>0.00</td>\n",
              "      <td>0.00</td>\n",
              "      <td>0.000000</td>\n",
              "      <td>0.00</td>\n",
              "    </tr>\n",
              "    <tr>\n",
              "      <th>sick</th>\n",
              "      <td>1.00</td>\n",
              "      <td>0.48</td>\n",
              "      <td>0.648649</td>\n",
              "      <td>50.00</td>\n",
              "    </tr>\n",
              "    <tr>\n",
              "      <th>accuracy</th>\n",
              "      <td>0.48</td>\n",
              "      <td>0.48</td>\n",
              "      <td>0.480000</td>\n",
              "      <td>0.48</td>\n",
              "    </tr>\n",
              "    <tr>\n",
              "      <th>macro avg</th>\n",
              "      <td>0.50</td>\n",
              "      <td>0.24</td>\n",
              "      <td>0.324324</td>\n",
              "      <td>50.00</td>\n",
              "    </tr>\n",
              "    <tr>\n",
              "      <th>weighted avg</th>\n",
              "      <td>1.00</td>\n",
              "      <td>0.48</td>\n",
              "      <td>0.648649</td>\n",
              "      <td>50.00</td>\n",
              "    </tr>\n",
              "  </tbody>\n",
              "</table>\n",
              "</div>\n",
              "      <button class=\"colab-df-convert\" onclick=\"convertToInteractive('df-1b4121de-0913-464f-bbc0-eb2fd9348bab')\"\n",
              "              title=\"Convert this dataframe to an interactive table.\"\n",
              "              style=\"display:none;\">\n",
              "        \n",
              "  <svg xmlns=\"http://www.w3.org/2000/svg\" height=\"24px\"viewBox=\"0 0 24 24\"\n",
              "       width=\"24px\">\n",
              "    <path d=\"M0 0h24v24H0V0z\" fill=\"none\"/>\n",
              "    <path d=\"M18.56 5.44l.94 2.06.94-2.06 2.06-.94-2.06-.94-.94-2.06-.94 2.06-2.06.94zm-11 1L8.5 8.5l.94-2.06 2.06-.94-2.06-.94L8.5 2.5l-.94 2.06-2.06.94zm10 10l.94 2.06.94-2.06 2.06-.94-2.06-.94-.94-2.06-.94 2.06-2.06.94z\"/><path d=\"M17.41 7.96l-1.37-1.37c-.4-.4-.92-.59-1.43-.59-.52 0-1.04.2-1.43.59L10.3 9.45l-7.72 7.72c-.78.78-.78 2.05 0 2.83L4 21.41c.39.39.9.59 1.41.59.51 0 1.02-.2 1.41-.59l7.78-7.78 2.81-2.81c.8-.78.8-2.07 0-2.86zM5.41 20L4 18.59l7.72-7.72 1.47 1.35L5.41 20z\"/>\n",
              "  </svg>\n",
              "      </button>\n",
              "      \n",
              "  <style>\n",
              "    .colab-df-container {\n",
              "      display:flex;\n",
              "      flex-wrap:wrap;\n",
              "      gap: 12px;\n",
              "    }\n",
              "\n",
              "    .colab-df-convert {\n",
              "      background-color: #E8F0FE;\n",
              "      border: none;\n",
              "      border-radius: 50%;\n",
              "      cursor: pointer;\n",
              "      display: none;\n",
              "      fill: #1967D2;\n",
              "      height: 32px;\n",
              "      padding: 0 0 0 0;\n",
              "      width: 32px;\n",
              "    }\n",
              "\n",
              "    .colab-df-convert:hover {\n",
              "      background-color: #E2EBFA;\n",
              "      box-shadow: 0px 1px 2px rgba(60, 64, 67, 0.3), 0px 1px 3px 1px rgba(60, 64, 67, 0.15);\n",
              "      fill: #174EA6;\n",
              "    }\n",
              "\n",
              "    [theme=dark] .colab-df-convert {\n",
              "      background-color: #3B4455;\n",
              "      fill: #D2E3FC;\n",
              "    }\n",
              "\n",
              "    [theme=dark] .colab-df-convert:hover {\n",
              "      background-color: #434B5C;\n",
              "      box-shadow: 0px 1px 3px 1px rgba(0, 0, 0, 0.15);\n",
              "      filter: drop-shadow(0px 1px 2px rgba(0, 0, 0, 0.3));\n",
              "      fill: #FFFFFF;\n",
              "    }\n",
              "  </style>\n",
              "\n",
              "      <script>\n",
              "        const buttonEl =\n",
              "          document.querySelector('#df-1b4121de-0913-464f-bbc0-eb2fd9348bab button.colab-df-convert');\n",
              "        buttonEl.style.display =\n",
              "          google.colab.kernel.accessAllowed ? 'block' : 'none';\n",
              "\n",
              "        async function convertToInteractive(key) {\n",
              "          const element = document.querySelector('#df-1b4121de-0913-464f-bbc0-eb2fd9348bab');\n",
              "          const dataTable =\n",
              "            await google.colab.kernel.invokeFunction('convertToInteractive',\n",
              "                                                     [key], {});\n",
              "          if (!dataTable) return;\n",
              "\n",
              "          const docLinkHtml = 'Like what you see? Visit the ' +\n",
              "            '<a target=\"_blank\" href=https://colab.research.google.com/notebooks/data_table.ipynb>data table notebook</a>'\n",
              "            + ' to learn more about interactive tables.';\n",
              "          element.innerHTML = '';\n",
              "          dataTable['output_type'] = 'display_data';\n",
              "          await google.colab.output.renderOutput(dataTable, element);\n",
              "          const docLink = document.createElement('div');\n",
              "          docLink.innerHTML = docLinkHtml;\n",
              "          element.appendChild(docLink);\n",
              "        }\n",
              "      </script>\n",
              "    </div>\n",
              "  </div>\n",
              "  "
            ]
          },
          "metadata": {},
          "execution_count": 28
        }
      ],
      "source": [
        "report2 = classification_report(test_ds.classes, y_pred, target_names=image_class, output_dict=True)\n",
        "df2 = pd.DataFrame(report2).transpose()\n",
        "df2"
      ]
    },
    {
      "cell_type": "code",
      "execution_count": 29,
      "metadata": {
        "id": "3nFLbHg9xBVw"
      },
      "outputs": [],
      "source": [
        "df2.to_csv(r'/content/drive/MyDrive/Colab Notebooks/deeplearning/dataset2.txt', header=True, index=True, sep = '\\t', mode='a')"
      ]
    }
  ],
  "metadata": {
    "accelerator": "GPU",
    "colab": {
      "collapsed_sections": [],
      "name": "imageclassification.ipynb",
      "provenance": [],
      "authorship_tag": "ABX9TyO0R6kFoBGz4f66MtWL1/NS",
      "include_colab_link": true
    },
    "gpuClass": "standard",
    "kernelspec": {
      "display_name": "Python 3",
      "name": "python3"
    },
    "language_info": {
      "name": "python"
    }
  },
  "nbformat": 4,
  "nbformat_minor": 0
}