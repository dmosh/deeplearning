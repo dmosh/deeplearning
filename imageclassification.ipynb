{
  "nbformat": 4,
  "nbformat_minor": 0,
  "metadata": {
    "colab": {
      "name": "imageclassification.ipynb",
      "provenance": [],
      "authorship_tag": "ABX9TyN5kVC4FWzulli2Wq3LE2ec",
      "include_colab_link": true
    },
    "kernelspec": {
      "name": "python3",
      "display_name": "Python 3"
    },
    "language_info": {
      "name": "python"
    }
  },
  "cells": [
    {
      "cell_type": "markdown",
      "metadata": {
        "id": "view-in-github",
        "colab_type": "text"
      },
      "source": [
        "<a href=\"https://colab.research.google.com/github/dmosh/deeplearning/blob/main/imageclassification.ipynb\" target=\"_parent\"><img src=\"https://colab.research.google.com/assets/colab-badge.svg\" alt=\"Open In Colab\"/></a>"
      ]
    },
    {
      "cell_type": "code",
      "execution_count": 10,
      "metadata": {
        "id": "4Xio51LPWtMI"
      },
      "outputs": [],
      "source": [
        "#importing the neccessary libraries\n",
        "import glob\n",
        "import cv2 as cv\n",
        "import pandas as pd\n",
        "\n",
        "import matplotlib.pyplot as plt\n",
        "import numpy as np\n",
        "import os\n",
        "import requests\n",
        "import urllib\n",
        "from io import BytesIO\n",
        "from PIL import Image\n",
        "import pathlib\n",
        "from sklearn.metrics import confusion_matrix\n",
        "import tensorflow as tf\n",
        "\n",
        "from tensorflow import keras\n",
        "from tensorflow.keras import layers\n",
        "from tensorflow.keras.models import Sequential"
      ]
    },
    {
      "cell_type": "code",
      "source": [
        "#load and read the images\n",
        "url = \"https://github.com/dmosh/deeplearning/tree/main/dataset1\"\n",
        "image_dir = tf.keras.utils.get_file(\"dataset1\", origin=url, untar=False)\n",
        "image_dir = pathlib.Path(image_dir)"
      ],
      "metadata": {
        "id": "rctmTXUBYaN-"
      },
      "execution_count": 11,
      "outputs": []
    },
    {
      "cell_type": "code",
      "source": [
        ""
      ],
      "metadata": {
        "id": "zU76G7xqxecR"
      },
      "execution_count": 11,
      "outputs": []
    }
  ]
}