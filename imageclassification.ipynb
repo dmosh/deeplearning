{
  "nbformat": 4,
  "nbformat_minor": 0,
  "metadata": {
    "colab": {
      "name": "imageclassification.ipynb",
      "provenance": [],
      "collapsed_sections": [],
      "authorship_tag": "ABX9TyOEvNATP91LVOJdXafAQumU",
      "include_colab_link": true
    },
    "kernelspec": {
      "name": "python3",
      "display_name": "Python 3"
    },
    "language_info": {
      "name": "python"
    },
    "accelerator": "GPU",
    "gpuClass": "standard"
  },
  "cells": [
    {
      "cell_type": "markdown",
      "metadata": {
        "id": "view-in-github",
        "colab_type": "text"
      },
      "source": [
        "<a href=\"https://colab.research.google.com/github/dmosh/deeplearning/blob/main/imageclassification.ipynb\" target=\"_parent\"><img src=\"https://colab.research.google.com/assets/colab-badge.svg\" alt=\"Open In Colab\"/></a>"
      ]
    },
    {
      "cell_type": "code",
      "execution_count": 2,
      "metadata": {
        "id": "4Xio51LPWtMI"
      },
      "outputs": [],
      "source": [
        "#importing the neccessary libraries\n",
        "import glob\n",
        "import cv2 as cv\n",
        "import pandas as pd\n",
        "import seaborn as sns\n",
        "\n",
        "import matplotlib.pyplot as plt\n",
        "import numpy as np\n",
        "import random\n",
        "import os\n",
        "import pathlib\n",
        "import splitfolders\n",
        "from sklearn.metrics import confusion_matrix\n",
        "\n",
        "import tensorflow as tf\n",
        "from tensorflow import keras\n",
        "from keras.layers import Dense, Conv2D, MaxPool2D, Dropout, Flatten, BatchNormalization\n",
        "from keras.models import Sequential\n",
        "from keras.preprocessing.image import ImageDataGenerator\n",
        "from keras.callbacks import ModelCheckpoint, EarlyStopping, ReduceLROnPlateau\n",
        "from keras.applications.vgg16 import VGG16\n",
        "from google.colab import drive\n",
        "#!pip install split-folders"
      ]
    },
    {
      "cell_type": "code",
      "source": [
        "#mount drive\n",
        "drive.mount(\"/content/drive\")"
      ],
      "metadata": {
        "colab": {
          "base_uri": "https://localhost:8080/"
        },
        "id": "QICAeuYmDCZI",
        "outputId": "cb69b845-5601-4a4a-979b-8c0cda09758b"
      },
      "execution_count": 3,
      "outputs": [
        {
          "output_type": "stream",
          "name": "stdout",
          "text": [
            "Drive already mounted at /content/drive; to attempt to forcibly remount, call drive.mount(\"/content/drive\", force_remount=True).\n"
          ]
        }
      ]
    },
    {
      "cell_type": "code",
      "source": [
        "#load and read the images\n",
        "url = \"/content/drive/MyDrive/Colab Notebooks/deeplearning/dataset1/known_images\"\n",
        "image_dir = pathlib.Path(url)\n",
        "\n",
        "image_dir"
      ],
      "metadata": {
        "id": "rctmTXUBYaN-",
        "colab": {
          "base_uri": "https://localhost:8080/"
        },
        "outputId": "d112ba9a-0d81-4c67-c652-8afc740fb00b"
      },
      "execution_count": 4,
      "outputs": [
        {
          "output_type": "execute_result",
          "data": {
            "text/plain": [
              "PosixPath('/content/drive/MyDrive/Colab Notebooks/deeplearning/dataset1/known_images')"
            ]
          },
          "metadata": {},
          "execution_count": 4
        }
      ]
    },
    {
      "cell_type": "code",
      "source": [
        "splitfolders.ratio(image_dir, output='imgs', seed=123, ratio=(.7,.15,.15), group_prefix=None)"
      ],
      "metadata": {
        "colab": {
          "base_uri": "https://localhost:8080/"
        },
        "id": "dTmewEf2oSZf",
        "outputId": "32842535-75a6-4047-e73e-15e0b59180b2"
      },
      "execution_count": 5,
      "outputs": [
        {
          "output_type": "stream",
          "name": "stderr",
          "text": [
            "Copying files: 715 files [00:02, 320.60 files/s]\n"
          ]
        }
      ]
    },
    {
      "cell_type": "code",
      "source": [
        "normal = [fn for fn in os.listdir(f'{image_dir}/normal') if fn.endswith('.png')]\n",
        "sick = [fn for fn in os.listdir(f'{image_dir}/sick') if fn.endswith('.png')]\n",
        "\n",
        "image = [normal, sick]\n",
        "image_class = []\n",
        "\n",
        "for i in os.listdir('imgs/train'):\n",
        "  image_class+=[i]\n",
        "image_class.sort()"
      ],
      "metadata": {
        "id": "335LAhrnEJUA"
      },
      "execution_count": 6,
      "outputs": []
    },
    {
      "cell_type": "code",
      "source": [
        "image_count = len(list(image_dir.glob('*/*.png')))\n",
        "print(f'Total images: {image_count}')\n",
        "print(f'Total number of classes: {len(image_class)}')\n",
        "count = 0\n",
        "rice_count = []\n",
        "for x in image_class:\n",
        "  print(f'Total {x} images: {len(image[count])}')\n",
        "  rice_count.append(len(image[count]))\n",
        "  count += 1\n"
      ],
      "metadata": {
        "colab": {
          "base_uri": "https://localhost:8080/"
        },
        "id": "zU76G7xqxecR",
        "outputId": "ef2b0ddc-e2da-4509-db6c-e8a31855e8c1"
      },
      "execution_count": 7,
      "outputs": [
        {
          "output_type": "stream",
          "name": "stdout",
          "text": [
            "Total images: 715\n",
            "Total number of classes: 2\n",
            "Total normal images: 364\n",
            "Total sick images: 351\n"
          ]
        }
      ]
    },
    {
      "cell_type": "code",
      "source": [
        "sample_img = cv.imread('/content/imgs/test/sick/sick_100.png')\n",
        "plt.imshow(sample_img)\n",
        "print(f'Image dimensions: {sample_img.shape}')"
      ],
      "metadata": {
        "id": "SZFQhmmqWFGR"
      },
      "execution_count": null,
      "outputs": []
    },
    {
      "cell_type": "code",
      "source": [
        "def load_random_img(dir, label):\n",
        "  plt.figure(figsize=(10,10))\n",
        "  i=0\n",
        "  for label in image_class:\n",
        "    i+=1\n",
        "    plt.subplot(1, 5, i)\n",
        "    file = random.choice(os.listdir(f'{dir}/{label}'))\n",
        "    image_path = os.path.join(f'{dir}/{label}', file)\n",
        "    img=cv.imread(image_path)\n",
        "    plt.title(label)\n",
        "    plt.imshow(img)\n",
        "    plt.grid(None)\n",
        "    plt.axis('off')"
      ],
      "metadata": {
        "id": "UbUQg29IVQqL"
      },
      "execution_count": 9,
      "outputs": []
    },
    {
      "cell_type": "code",
      "source": [
        "for i in range(3):\n",
        "  load_random_img(image_dir, image_class)"
      ],
      "metadata": {
        "id": "_mpBolckVhdF"
      },
      "execution_count": null,
      "outputs": []
    },
    {
      "cell_type": "markdown",
      "source": [
        "image preprocessing"
      ],
      "metadata": {
        "id": "q-oScCUCZRhB"
      }
    },
    {
      "cell_type": "code",
      "source": [
        "batch_size = 128\n",
        "img_height, img_width = 390, 390\n",
        "input_shape = (img_height, img_width, 3)"
      ],
      "metadata": {
        "id": "lt8V_9wWZQQB"
      },
      "execution_count": 12,
      "outputs": []
    },
    {
      "cell_type": "code",
      "source": [
        "datagen = ImageDataGenerator(rescale=1./255)\n",
        "#datagen = layers.Rescaling(1./255)"
      ],
      "metadata": {
        "id": "s2FeC-CnZmSC"
      },
      "execution_count": 13,
      "outputs": []
    },
    {
      "cell_type": "code",
      "source": [
        "train_ds = datagen.flow_from_directory(\n",
        "    'imgs/train',\n",
        "    target_size = (img_height, img_width),\n",
        "    batch_size = batch_size,\n",
        "    subset = \"training\",\n",
        "    class_mode='categorical')\n",
        "\n",
        "val_ds = datagen.flow_from_directory(\n",
        "    'imgs/val',\n",
        "    target_size = (img_height, img_width),\n",
        "    batch_size = batch_size,\n",
        "    class_mode='categorical',\n",
        "    shuffle=False)\n",
        "\n",
        "test_ds = datagen.flow_from_directory(\n",
        "    'imgs/test',\n",
        "    target_size = (img_height, img_width),\n",
        "    batch_size = batch_size,\n",
        "    class_mode='categorical',\n",
        "    shuffle=False)"
      ],
      "metadata": {
        "colab": {
          "base_uri": "https://localhost:8080/"
        },
        "id": "O59r3WcVZ9Nr",
        "outputId": "ed48cfec-d326-4834-cae9-278ded888440"
      },
      "execution_count": 14,
      "outputs": [
        {
          "output_type": "stream",
          "name": "stdout",
          "text": [
            "Found 499 images belonging to 2 classes.\n",
            "Found 106 images belonging to 2 classes.\n",
            "Found 110 images belonging to 2 classes.\n"
          ]
        }
      ]
    },
    {
      "cell_type": "code",
      "source": [
        "def plot_train_history(history):\n",
        "    plt.figure(figsize=(15,5))\n",
        "    plt.subplot(1,2,1)\n",
        "    plt.plot(history.history['accuracy'])\n",
        "    plt.plot(history.history['val_accuracy'])\n",
        "    plt.title('Model accuracy')\n",
        "    plt.ylabel('accuracy')\n",
        "    plt.xlabel('epoch')\n",
        "    plt.legend(['train', 'validation'], loc='upper left')\n",
        "    \n",
        "    plt.subplot(1,2,2)\n",
        "    plt.plot(history.history['loss'])\n",
        "    plt.plot(history.history['val_loss'])\n",
        "    plt.title('Model loss')\n",
        "    plt.ylabel('loss')\n",
        "    plt.xlabel('epoch')\n",
        "    plt.legend(['train', 'validation'], loc='upper left')\n",
        "    plt.show()"
      ],
      "metadata": {
        "id": "Gio_ms29fBga"
      },
      "execution_count": 15,
      "outputs": []
    },
    {
      "cell_type": "markdown",
      "source": [
        "Vanilla CNN Model"
      ],
      "metadata": {
        "id": "xGyMrvvyfW6h"
      }
    },
    {
      "cell_type": "code",
      "source": [
        "cnn_model = Sequential([\n",
        "    Conv2D(32,(3,3), activation='relu', input_shape=input_shape),\n",
        "    BatchNormalization(),\n",
        "    Conv2D(32,(3,3),activation='relu',padding='same'),\n",
        "    BatchNormalization(),\n",
        "    MaxPool2D(pool_size=(2,2),padding='same'),\n",
        "    Dropout(0.3),\n",
        "    \n",
        "    Conv2D(64,(3,3),activation='relu',padding='same'),\n",
        "    BatchNormalization(),\n",
        "    Conv2D(64,(3,3),activation='relu',padding='same'),\n",
        "    BatchNormalization(),\n",
        "    MaxPool2D(pool_size=(2,2),padding='same'),\n",
        "    Dropout(0.3),\n",
        "    \n",
        "    Conv2D(128,(3,3),activation='relu',padding='same'),\n",
        "    BatchNormalization(),\n",
        "    Conv2D(128,(3,3),activation='relu',padding='same'),\n",
        "    BatchNormalization(),\n",
        "    MaxPool2D(pool_size=(2,2),padding='same'),\n",
        "    Dropout(0.5),\n",
        "    \n",
        "    Flatten(),\n",
        "    Dense(2, activation='relu'),\n",
        "    BatchNormalization(),\n",
        "    Dropout(0.5),\n",
        "    Dense(2, activation='relu'),\n",
        "    Dropout(0.25),\n",
        "    Dense(2, activation='softmax')\n",
        "])"
      ],
      "metadata": {
        "id": "frvkc1ohfbBi"
      },
      "execution_count": 16,
      "outputs": []
    },
    {
      "cell_type": "code",
      "source": [
        "cnn_model.compile(optimizer='adam', loss='categorical_crossentropy', metrics=['accuracy'])\n",
        "cnn_model.summary()\n",
        "#cnn_model.layers"
      ],
      "metadata": {
        "id": "ZetbFBBJgGQG"
      },
      "execution_count": null,
      "outputs": []
    },
    {
      "cell_type": "code",
      "source": [
        "models_dir = \"/content/drive/MyDrive/Colab Notebooks/deeplearning/saved_models\"\n",
        "if not os.path.exists(models_dir):\n",
        "    os.makedirs(models_dir)\n",
        "\n",
        "checkpointer = ModelCheckpoint(filepath= '/content/drive/MyDrive/Colab Notebooks/deeplearning/saved_models/cnn_model.hdf5', \n",
        "                               monitor = 'val_accuracy', mode = 'max',\n",
        "                               verbose = 1, save_best_only = True)\n",
        "#early_stopping = EarlyStopping(monitor = 'val_loss', mode = 'min', verbose = 1, patience = 3)\n",
        "reduce_lr = ReduceLROnPlateau(monitor = 'val_loss', factor = 0.2, patience = 2, min_lr = 0.001)\n",
        "callbacks = [reduce_lr, checkpointer] #early_stopping, "
      ],
      "metadata": {
        "id": "o7jDbZ9DgZLI"
      },
      "execution_count": 18,
      "outputs": []
    },
    {
      "cell_type": "code",
      "source": [
        "learning = cnn_model.fit(train_ds, epochs = 10, validation_data = val_ds, callbacks=callbacks)"
      ],
      "metadata": {
        "id": "b_L10TwrhfxE"
      },
      "execution_count": null,
      "outputs": []
    },
    {
      "cell_type": "code",
      "source": [
        "cnn_model.load_weights('/content/drive/MyDrive/Colab Notebooks/deeplearning/saved_models/cnn_model.hdf5')\n",
        "plot_train_history(learning)"
      ],
      "metadata": {
        "id": "_5tPC_Bi1kpA"
      },
      "execution_count": null,
      "outputs": []
    },
    {
      "cell_type": "markdown",
      "source": [
        "evaluating the model"
      ],
      "metadata": {
        "id": "mpgL4Wm62p0C"
      }
    },
    {
      "cell_type": "code",
      "source": [
        "score = cnn_model.evaluate(test_ds, verbose=1)"
      ],
      "metadata": {
        "id": "ZXW5C0Wc2uk_"
      },
      "execution_count": null,
      "outputs": []
    },
    {
      "cell_type": "code",
      "source": [
        "from sklearn.metrics import classification_report, confusion_matrix\n",
        "\n",
        "Y_pred = cnn_model.predict(test_ds)"
      ],
      "metadata": {
        "id": "EhLFOImqZOBK"
      },
      "execution_count": 32,
      "outputs": []
    },
    {
      "cell_type": "code",
      "source": [
        "y_pred = np.argmax(Y_pred, axis=1)\n",
        "confusion_mtx = confusion_matrix(y_pred, test_ds.classes)\n",
        "f,ax = plt.subplots(figsize=(12, 12))\n",
        "sns.heatmap(confusion_mtx, annot=True, \n",
        "            linewidths=0.01,\n",
        "            linecolor=\"white\", \n",
        "            fmt= '.1f',ax=ax,)\n",
        "sns.color_palette(\"rocket\", as_cmap=True)\n",
        "\n",
        "plt.xlabel(\"Predicted Label\")\n",
        "plt.ylabel(\"True Label\")\n",
        "ax.xaxis.set_ticklabels(test_ds.class_indices)\n",
        "ax.yaxis.set_ticklabels(image_class)\n",
        "plt.title(\"Confusion Matrix\")\n",
        "plt.show()"
      ],
      "metadata": {
        "id": "bTPIwQQQZ6PT"
      },
      "execution_count": null,
      "outputs": []
    },
    {
      "cell_type": "code",
      "source": [
        "report1 = classification_report(test_ds.classes, y_pred, target_names=image_class, output_dict=True)\n",
        "df1 = pd.DataFrame(report1).transpose()\n",
        "df1"
      ],
      "metadata": {
        "id": "L2QSV8XRaq0l"
      },
      "execution_count": null,
      "outputs": []
    },
    {
      "cell_type": "markdown",
      "source": [
        "VGG16 Model"
      ],
      "metadata": {
        "id": "C1UljHVmz9B0"
      }
    },
    {
      "cell_type": "code",
      "source": [
        "vgg16 = VGG16(weights=\"imagenet\", include_top=False, input_shape=input_shape)\n",
        "vgg16.trainable = False\n",
        "inputs = tf.keras.Input(input_shape)\n",
        "x = vgg16(inputs, training=False)\n",
        "x = tf.keras.layers.GlobalAveragePooling2D()(x)\n",
        "x = tf.keras.layers.Dense(1024, activation='relu')(x)\n",
        "x = tf.keras.layers.Dense(2, activation='softmax')(x)\n",
        "model_vgg16 = tf.keras.Model(inputs, x)"
      ],
      "metadata": {
        "id": "4J8JLo8XceSk"
      },
      "execution_count": 19,
      "outputs": []
    },
    {
      "cell_type": "code",
      "source": [
        "model_vgg16.compile(optimizer='adam', loss='categorical_crossentropy', metrics=['accuracy'])\n",
        "model_vgg16.summary()"
      ],
      "metadata": {
        "id": "COBjjzi_d-7z"
      },
      "execution_count": null,
      "outputs": []
    },
    {
      "cell_type": "code",
      "source": [
        "checkpointer = ModelCheckpoint(filepath='/content/drive/MyDrive/Colab Notebooks/deeplearning/saved_models/cnn_model.hdf5', \n",
        "                               monitor='val_accuracy', mode='max',\n",
        "                               verbose=1, save_best_only=True)\n",
        "early_stopping = EarlyStopping(monitor='val_loss', mode='min', verbose=1, patience=3)\n",
        "reduce_lr = ReduceLROnPlateau(monitor='val_loss', factor=0.2,patience=2, min_lr=0.001)\n",
        "callbacks=[early_stopping, reduce_lr, checkpointer]"
      ],
      "metadata": {
        "id": "Bp0_klH5eIN0"
      },
      "execution_count": 21,
      "outputs": []
    },
    {
      "cell_type": "code",
      "source": [
        "learning1 = model_vgg16.fit(train_ds, epochs = 5, validation_data = val_ds, callbacks=callbacks)"
      ],
      "metadata": {
        "id": "6H5A1Ackec_Y"
      },
      "execution_count": null,
      "outputs": []
    },
    {
      "cell_type": "code",
      "source": [
        "model_vgg16.load_weights('/content/drive/MyDrive/Colab Notebooks/deeplearning/saved_models/cnn_model.hdf5')"
      ],
      "metadata": {
        "id": "0gEoM7C1spl0"
      },
      "execution_count": 23,
      "outputs": []
    },
    {
      "cell_type": "code",
      "source": [
        "plot_train_history(learning1)"
      ],
      "metadata": {
        "id": "ngQ-7Qh5tJQA"
      },
      "execution_count": null,
      "outputs": []
    },
    {
      "cell_type": "code",
      "source": [
        "score1 = model_vgg16.evaluate(test_ds, verbose=1)\n",
        "print(f'Model 1 Vanilla Loss: {score[0]}, Accuracy: {score[1]*100}')\n",
        "print(f'Model 2 VGG16 Loss: {score1[0]}, Accuracy: {score1[1]*100}')"
      ],
      "metadata": {
        "id": "H2OFg13htyyn"
      },
      "execution_count": null,
      "outputs": []
    },
    {
      "cell_type": "markdown",
      "source": [
        "FInetune the model"
      ],
      "metadata": {
        "id": "ci-RkhG4urLJ"
      }
    },
    {
      "cell_type": "code",
      "source": [
        "vgg16.trainable = True\n",
        "model_vgg16.compile(optimizer=keras.optimizers.Adam(1e-5),\n",
        "              loss='categorical_crossentropy', metrics=['accuracy'])"
      ],
      "metadata": {
        "id": "kCLJysByuqHr"
      },
      "execution_count": 25,
      "outputs": []
    },
    {
      "cell_type": "code",
      "source": [
        "learning2 = model_vgg16.fit(train_ds, epochs = 5, validation_data = val_ds, callbacks=callbacks)"
      ],
      "metadata": {
        "id": "GRdNPhUyuww_"
      },
      "execution_count": null,
      "outputs": []
    },
    {
      "cell_type": "code",
      "source": [
        "model_vgg16.load_weights('/content/drive/MyDrive/Colab Notebooks/deeplearning/saved_models/cnn_model.hdf5')"
      ],
      "metadata": {
        "id": "EZqC_v2vvkpf"
      },
      "execution_count": 27,
      "outputs": []
    },
    {
      "cell_type": "code",
      "source": [
        "score2 = model_vgg16.evaluate(test_ds, verbose=1)\n",
        "print(f'Model 1 Vanilla Loss: {score1[0]}, Accuracy: {score1[1]*100}')\n",
        "print(f'Model 2 VGG16 Loss: {score1[0]}, Accuracy: {score1[1]*100}')\n",
        "print(f'Model 2 VGG16 Fine-tuned Loss: {score2[0]}, Accuracy: {score2[1]*100}')"
      ],
      "metadata": {
        "id": "Lh7ypS0u1QB8"
      },
      "execution_count": null,
      "outputs": []
    },
    {
      "cell_type": "code",
      "source": [
        "Y_pred = model_vgg16.predict(test_ds)"
      ],
      "metadata": {
        "id": "yVfvM3Xf1fn9"
      },
      "execution_count": 28,
      "outputs": []
    },
    {
      "cell_type": "code",
      "source": [
        "y_pred = np.argmax(Y_pred, axis=1)\n",
        "confusion_mtx = confusion_matrix(y_pred, test_ds.classes)\n",
        "f,ax = plt.subplots(figsize=(12, 12))\n",
        "sns.heatmap(confusion_mtx, annot=True, \n",
        "            linewidths=0.01,\n",
        "            linecolor=\"white\", \n",
        "            fmt= '.1f',ax=ax,)\n",
        "sns.color_palette(\"rocket\", as_cmap=True)\n",
        "\n",
        "plt.xlabel(\"Predicted Label\")\n",
        "plt.ylabel(\"True Label\")\n",
        "ax.xaxis.set_ticklabels(test_ds.class_indices)\n",
        "ax.yaxis.set_ticklabels(image_class)\n",
        "plt.title(\"Confusion Matrix\")\n",
        "plt.show()"
      ],
      "metadata": {
        "id": "lh8NKjtB1oJa"
      },
      "execution_count": null,
      "outputs": []
    },
    {
      "cell_type": "code",
      "source": [
        "report2 = classification_report(test_ds.classes, y_pred, target_names=image_class, output_dict=True)\n",
        "df2 = pd.DataFrame(report1).transpose()\n",
        "df2"
      ],
      "metadata": {
        "id": "GwFwI3pp2IVg"
      },
      "execution_count": null,
      "outputs": []
    },
    {
      "cell_type": "code",
      "source": [
        "plt.figure(figsize=(10, 10))\n",
        "x, label= train_ds.next()\n",
        "for i in range(9):\n",
        "    plt.subplot(3, 3, i+1)\n",
        "    plt.imshow(x[i])\n",
        "    result = np.where(label[i]==1)\n",
        "    predict = model_vgg16(tf.expand_dims(x[i], 0))\n",
        "    score = tf.nn.softmax(predict[0])\n",
        "    score_label = image_class[np.argmax(score)]\n",
        "    plt.title(f'Truth: {image_class[result[0][0]]}\\nPrediction:{score_label}')\n",
        "    plt.axis(False)"
      ],
      "metadata": {
        "id": "WAp1tMfb24ZW"
      },
      "execution_count": null,
      "outputs": []
    }
  ]
}