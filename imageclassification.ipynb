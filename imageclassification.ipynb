{
  "cells": [
    {
      "cell_type": "markdown",
      "metadata": {
        "id": "view-in-github",
        "colab_type": "text"
      },
      "source": [
        "<a href=\"https://colab.research.google.com/github/dmosh/deeplearning/blob/main/imageclassification.ipynb\" target=\"_parent\"><img src=\"https://colab.research.google.com/assets/colab-badge.svg\" alt=\"Open In Colab\"/></a>"
      ]
    },
    {
      "cell_type": "code",
      "execution_count": null,
      "metadata": {
        "id": "4Xio51LPWtMI"
      },
      "outputs": [],
      "source": [
        "#importing the neccessary libraries\n",
        "import glob\n",
        "import cv2 as cv\n",
        "import pandas as pd\n",
        "import seaborn as sns\n",
        "\n",
        "import matplotlib.pyplot as plt\n",
        "import numpy as np\n",
        "import random\n",
        "import os\n",
        "from os import listdir\n",
        "from os.path import isfile, join\n",
        "import pathlib\n",
        "import splitfolders\n",
        "from sklearn.metrics import classification_report, confusion_matrix\n",
        "\n",
        "import tensorflow as tf\n",
        "from tensorflow import keras\n",
        "from keras.layers import Dense, Conv2D, MaxPool2D, Dropout, Flatten, BatchNormalization\n",
        "from keras.models import Sequential, load_model\n",
        "from keras.preprocessing.image import ImageDataGenerator\n",
        "from keras.callbacks import ModelCheckpoint, EarlyStopping, ReduceLROnPlateau\n",
        "from keras.applications.vgg16 import VGG16\n",
        "from google.colab import drive\n",
        "#!pip install split-folders\n",
        "\n",
        "import warnings\n",
        "warnings.filterwarnings('always') "
      ]
    },
    {
      "cell_type": "code",
      "execution_count": null,
      "metadata": {
        "id": "QICAeuYmDCZI"
      },
      "outputs": [],
      "source": [
        "#mount drive\n",
        "drive.mount(\"/content/drive\")"
      ]
    },
    {
      "cell_type": "code",
      "execution_count": null,
      "metadata": {
        "id": "rctmTXUBYaN-"
      },
      "outputs": [],
      "source": [
        "#load and read the images\n",
        "url = \"/content/drive/MyDrive/Colab Notebooks/deeplearning/dataset1/known_images\"\n",
        "image_dir = pathlib.Path(url)\n"
      ]
    },
    {
      "cell_type": "code",
      "execution_count": null,
      "metadata": {
        "id": "dTmewEf2oSZf"
      },
      "outputs": [],
      "source": [
        "splitfolders.ratio(image_dir, output='imgs', seed=123, ratio=(.8,.2), group_prefix=None)"
      ]
    },
    {
      "cell_type": "code",
      "execution_count": null,
      "metadata": {
        "id": "335LAhrnEJUA"
      },
      "outputs": [],
      "source": [
        "normal = [fn for fn in os.listdir(f'{image_dir}/normal') if fn.endswith('.png')]\n",
        "sick = [fn for fn in os.listdir(f'{image_dir}/sick') if fn.endswith('.png')]\n",
        "\n",
        "image = [normal, sick]\n",
        "image_class = []\n",
        "\n",
        "for i in os.listdir('imgs/train'):\n",
        "  image_class+=[i]\n",
        "image_class.sort()"
      ]
    },
    {
      "cell_type": "code",
      "execution_count": null,
      "metadata": {
        "id": "zU76G7xqxecR"
      },
      "outputs": [],
      "source": [
        "image_count = len(list(image_dir.glob('*/*.png')))\n",
        "print(f'Total images: {image_count}')\n",
        "print(f'Total number of classes: {len(image_class)}')\n",
        "count = 0\n",
        "images_count = []\n",
        "for x in image_class:\n",
        "  print(f'Total {x} images: {len(image[count])}')\n",
        "  images_count.append(len(image[count]))\n",
        "  count += 1\n"
      ]
    },
    {
      "cell_type": "code",
      "execution_count": null,
      "metadata": {
        "id": "UbUQg29IVQqL"
      },
      "outputs": [],
      "source": [
        "def load_random_img(dir, label):\n",
        "  plt.figure(figsize=(10,10))\n",
        "  i=0\n",
        "  for label in image_class:\n",
        "    i+=1\n",
        "    plt.subplot(1, 5, i)\n",
        "    file = random.choice(os.listdir(f'{dir}/{label}'))\n",
        "    image_path = os.path.join(f'{dir}/{label}', file)\n",
        "    img=cv.imread(image_path)\n",
        "    plt.title(label)\n",
        "    plt.imshow(img)\n",
        "    plt.grid(None)\n",
        "    plt.axis('off')"
      ]
    },
    {
      "cell_type": "markdown",
      "metadata": {
        "id": "q-oScCUCZRhB"
      },
      "source": [
        "image preprocessing"
      ]
    },
    {
      "cell_type": "code",
      "execution_count": null,
      "metadata": {
        "id": "lt8V_9wWZQQB"
      },
      "outputs": [],
      "source": [
        "batch_size = 32\n",
        "img_height, img_width = 224, 224\n",
        "input_shape = (img_height, img_width, 3)"
      ]
    },
    {
      "cell_type": "code",
      "execution_count": null,
      "metadata": {
        "id": "s2FeC-CnZmSC"
      },
      "outputs": [],
      "source": [
        "#datagen = ImageDataGenerator(rescale=1./255, featurewise_center=True, featurewise_std_normalization=True)\n",
        "datagen = ImageDataGenerator(rescale=1./255)\n"
      ]
    },
    {
      "cell_type": "code",
      "execution_count": null,
      "metadata": {
        "id": "O59r3WcVZ9Nr"
      },
      "outputs": [],
      "source": [
        "train_ds = datagen.flow_from_directory(\n",
        "    'imgs/train',\n",
        "    target_size = (img_height, img_width),\n",
        "    batch_size = batch_size,\n",
        "    color_mode=\"rgb\",\n",
        "    subset = \"training\",\n",
        "    class_mode='categorical',\n",
        "    shuffle=True,\n",
        "    seed = 42)\n",
        "\n",
        "val_ds = datagen.flow_from_directory(\n",
        "    'imgs/val',\n",
        "    target_size = (img_height, img_width),\n",
        "    batch_size = batch_size,\n",
        "    color_mode=\"rgb\",\n",
        "    class_mode='categorical',\n",
        "    shuffle=False,\n",
        "    seed = 42)\n",
        "\n",
        "test_ds = datagen.flow_from_directory(\n",
        "    'imgs/test',\n",
        "    target_size = (img_height, img_width),\n",
        "    batch_size = 1,\n",
        "    color_mode=\"rgb\",\n",
        "    class_mode=None,\n",
        "    shuffle=False,\n",
        "    seed=42)\n",
        "\n"
      ]
    },
    {
      "cell_type": "code",
      "execution_count": null,
      "metadata": {
        "id": "Gio_ms29fBga"
      },
      "outputs": [],
      "source": [
        "def plot_train_history(history):\n",
        "    plt.figure(figsize=(15,5))\n",
        "    plt.subplot(1,2,1)\n",
        "    plt.plot(history.history['accuracy'])\n",
        "    plt.plot(history.history['val_accuracy'])\n",
        "    plt.title('Model accuracy')\n",
        "    plt.ylabel('accuracy')\n",
        "    plt.xlabel('epoch')\n",
        "    plt.legend(['train', 'validation'], loc='upper left')\n",
        "    \n",
        "    plt.subplot(1,2,2)\n",
        "    plt.plot(history.history['loss'])\n",
        "    plt.plot(history.history['val_loss'])\n",
        "    plt.title('Model loss')\n",
        "    plt.ylabel('loss')\n",
        "    plt.xlabel('epoch')\n",
        "    plt.legend(['train', 'validation'], loc='upper left')\n",
        "    plt.show()"
      ]
    },
    {
      "cell_type": "code",
      "source": [
        "custom_model = tf.keras.Sequential([\n",
        "    tf.keras.layers.Conv2D(32,(3,3), activation='relu', input_shape=input_shape),\n",
        "    tf.keras.layers.BatchNormalization(),\n",
        "    tf.keras.layers.Conv2D(32,(3,3),activation='relu',padding='same'),\n",
        "    tf.keras.layers.BatchNormalization(axis = 3),\n",
        "    tf.keras.layers.MaxPooling2D(pool_size=(2,2),padding='same'),\n",
        "    tf.keras.layers.Dropout(0.3),\n",
        "    \n",
        "    tf.keras.layers.Conv2D(64,(3,3),activation='relu',padding='same'),\n",
        "    tf.keras.layers.BatchNormalization(),\n",
        "    tf.keras.layers.Conv2D(64,(3,3),activation='relu',padding='same'),\n",
        "    tf.keras.layers.BatchNormalization(axis = 3),\n",
        "    tf.keras.layers.MaxPooling2D(pool_size=(2,2),padding='same'),\n",
        "    tf.keras.layers.Dropout(0.3),\n",
        "    \n",
        "    tf.keras.layers.Conv2D(128,(3,3),activation='relu',padding='same'),\n",
        "    tf.keras.layers.BatchNormalization(),\n",
        "    tf.keras.layers.Conv2D(128,(3,3),activation='relu',padding='same'),\n",
        "    tf.keras.layers.BatchNormalization(axis = 3),\n",
        "    tf.keras.layers.MaxPooling2D(pool_size=(2,2),padding='same'),\n",
        "    tf.keras.layers.Dropout(0.5),\n",
        "    \n",
        "    tf.keras.layers.Flatten(),\n",
        "    tf.keras.layers.Dense(512, activation='relu'),\n",
        "    tf.keras.layers.BatchNormalization(),\n",
        "    tf.keras.layers.Dropout(0.5),\n",
        "    tf.keras.layers.Dense(128, activation='relu'),\n",
        "    tf.keras.layers.Dropout(0.25),\n",
        "    tf.keras.layers.Dense(2, activation='softmax')\n",
        "])"
      ],
      "metadata": {
        "id": "tsvJ8HuXwv7H"
      },
      "execution_count": null,
      "outputs": []
    },
    {
      "cell_type": "code",
      "source": [
        "custom_model.compile(optimizer='adam', loss='categorical_crossentropy', metrics=['accuracy'])\n",
        "custom_model.summary()"
      ],
      "metadata": {
        "id": "H2tqn7lMy43b"
      },
      "execution_count": null,
      "outputs": []
    },
    {
      "cell_type": "code",
      "source": [
        "models_dir = \"/content/drive/MyDrive/Colab Notebooks/deeplearning/saved_models\"\n",
        "if not os.path.exists(models_dir):\n",
        "    os.makedirs(models_dir)\n",
        "\n",
        "checkpointer = ModelCheckpoint(filepath='saved_models/model_vanilla.hdf5', \n",
        "                               monitor='val_accuracy', mode='max',\n",
        "                               verbose=1, save_best_only=True)\n",
        "early_stopping = EarlyStopping(monitor='val_loss', mode='min', verbose=1, patience=3)\n",
        "reduce_lr = ReduceLROnPlateau(monitor='val_loss', factor=0.2,patience=2, min_lr=0.001)\n",
        "callbacks=[early_stopping, reduce_lr, checkpointer]"
      ],
      "metadata": {
        "id": "bMBeoBARzFjt"
      },
      "execution_count": null,
      "outputs": []
    },
    {
      "cell_type": "code",
      "source": [
        "learning = custom_model.fit(train_ds, epochs = 50, validation_data = val_ds, callbacks=callbacks)"
      ],
      "metadata": {
        "id": "47a0-xomzqJT"
      },
      "execution_count": null,
      "outputs": []
    },
    {
      "cell_type": "code",
      "source": [
        "custom_model.load_weights('/content/drive/MyDrive/Colab Notebooks/deeplearning/saved_models/custom_model.hdf5')\n",
        "plot_train_history(learning)"
      ],
      "metadata": {
        "id": "7i0VCdvMz3V-"
      },
      "execution_count": null,
      "outputs": []
    },
    {
      "cell_type": "markdown",
      "source": [
        "Evaluating the model"
      ],
      "metadata": {
        "id": "NIhVaDXK0reb"
      }
    },
    {
      "cell_type": "code",
      "source": [
        "scores = custom_model.evaluate(test_ds, verbose=1)"
      ],
      "metadata": {
        "id": "PYl561KB0qkM"
      },
      "execution_count": null,
      "outputs": []
    },
    {
      "cell_type": "markdown",
      "metadata": {
        "id": "C1UljHVmz9B0"
      },
      "source": [
        "VGG16 Model"
      ]
    },
    {
      "cell_type": "code",
      "execution_count": null,
      "metadata": {
        "id": "4J8JLo8XceSk"
      },
      "outputs": [],
      "source": [
        "vgg16 = VGG16(weights=\"imagenet\", include_top=False, input_shape=input_shape)\n",
        "vgg16.trainable = False\n",
        "inputs = tf.keras.Input(input_shape)\n",
        "x = vgg16(inputs, training=False)\n",
        "x = tf.keras.layers.GlobalAveragePooling2D()(x)\n",
        "x = tf.keras.layers.Dense(1024, activation='relu')(x)\n",
        "x = tf.keras.layers.Dense(2, activation='softmax')(x)\n",
        "model_vgg16 = tf.keras.Model(inputs, x)"
      ]
    },
    {
      "cell_type": "code",
      "execution_count": null,
      "metadata": {
        "id": "COBjjzi_d-7z"
      },
      "outputs": [],
      "source": [
        "model_vgg16.compile(optimizer='adam', loss='categorical_crossentropy', metrics=['accuracy'])\n",
        "model_vgg16.summary()"
      ]
    },
    {
      "cell_type": "code",
      "execution_count": null,
      "metadata": {
        "id": "Bp0_klH5eIN0"
      },
      "outputs": [],
      "source": [
        "checkpointer = ModelCheckpoint(filepath='/content/drive/MyDrive/Colab Notebooks/deeplearning/saved_models/cnn_model.hdf5', \n",
        "                               monitor='val_accuracy', mode='max',\n",
        "                               verbose=1, save_best_only=True)\n",
        "early_stopping = EarlyStopping(monitor='val_loss', mode='min', verbose=1, patience=3)\n",
        "reduce_lr = ReduceLROnPlateau(monitor='val_loss', factor=0.2,patience=2, min_lr=0.001)\n",
        "callbacks=[early_stopping, reduce_lr, checkpointer]"
      ]
    },
    {
      "cell_type": "code",
      "execution_count": null,
      "metadata": {
        "id": "6H5A1Ackec_Y"
      },
      "outputs": [],
      "source": [
        "learning1 = model_vgg16.fit(train_ds, epochs = 30, validation_data = val_ds, callbacks=callbacks)"
      ]
    },
    {
      "cell_type": "code",
      "execution_count": null,
      "metadata": {
        "id": "0gEoM7C1spl0"
      },
      "outputs": [],
      "source": [
        "model_vgg16.load_weights('/content/drive/MyDrive/Colab Notebooks/deeplearning/saved_models/cnn_model.hdf5')\n",
        "plot_train_history(learning1)"
      ]
    },
    {
      "cell_type": "code",
      "execution_count": null,
      "metadata": {
        "id": "H2OFg13htyyn"
      },
      "outputs": [],
      "source": [
        "score1 = model_vgg16.evaluate(test_ds, verbose=1)\n",
        "print(f'Model 2 VGG16 Loss: {score1[0]}, Accuracy: {score1[1]*100}')"
      ]
    },
    {
      "cell_type": "markdown",
      "metadata": {
        "id": "ci-RkhG4urLJ"
      },
      "source": [
        "Finetune the model"
      ]
    },
    {
      "cell_type": "code",
      "execution_count": null,
      "metadata": {
        "id": "kCLJysByuqHr"
      },
      "outputs": [],
      "source": [
        "vgg16.trainable = True\n",
        "model_vgg16.compile(optimizer=keras.optimizers.Adam(1e-5),\n",
        "              loss='categorical_crossentropy', metrics=['accuracy'])"
      ]
    },
    {
      "cell_type": "code",
      "execution_count": null,
      "metadata": {
        "id": "GRdNPhUyuww_"
      },
      "outputs": [],
      "source": [
        "learning2 = model_vgg16.fit(train_ds, epochs = 20, validation_data = val_ds, callbacks=callbacks)"
      ]
    },
    {
      "cell_type": "code",
      "execution_count": null,
      "metadata": {
        "id": "EZqC_v2vvkpf"
      },
      "outputs": [],
      "source": [
        "model_vgg16.load_weights('/content/drive/MyDrive/Colab Notebooks/deeplearning/saved_models/cnn_model.hdf5')"
      ]
    },
    {
      "cell_type": "code",
      "execution_count": null,
      "metadata": {
        "id": "Lh7ypS0u1QB8"
      },
      "outputs": [],
      "source": [
        "score2 = model_vgg16.predict(test_ds, verbose=1)\n",
        "#print(f'Model 1 Vanilla Loss: {score1[0]}, Accuracy: {score1[1]*100}')\n",
        "print(f'Model 2 VGG16 Loss: {score1[0]}, Accuracy: {score1[1]*100}')\n",
        "print(f'Model 2 VGG16 Fine-tuned Loss: {score2[0]}, Accuracy: {score2[1]*100}')"
      ]
    },
    {
      "cell_type": "code",
      "execution_count": null,
      "metadata": {
        "id": "yVfvM3Xf1fn9"
      },
      "outputs": [],
      "source": [
        "Y_pred = model_vgg16.predict(test_ds)"
      ]
    },
    {
      "cell_type": "code",
      "source": [
        "predicted_class_indices=np.argmax(Y_pred,axis=1)"
      ],
      "metadata": {
        "id": "Z2NBIYpQ4ZkO"
      },
      "execution_count": null,
      "outputs": []
    },
    {
      "cell_type": "code",
      "source": [
        "labels = (train_ds.class_indices)\n",
        "labels = dict((v,k) for k,v in labels.items())\n",
        "predictions = [labels[k] for k in predicted_class_indices]"
      ],
      "metadata": {
        "id": "Cyx4ksyi4g_S"
      },
      "execution_count": null,
      "outputs": []
    },
    {
      "cell_type": "code",
      "source": [
        "filenames=test_ds.filenames\n",
        "results=pd.DataFrame({\"Filename\":filenames,\n",
        "                      \"Predictions\":predictions})\n",
        "results.to_csv(\"/content/drive/MyDrive/Colab Notebooks/deeplearning/Unkown_Image_pred.csv\",index=False, header=[\"Epuret Moses Obuya\", \"2021/HD05/2291\"])"
      ],
      "metadata": {
        "id": "KweyLs5G4pYG"
      },
      "execution_count": null,
      "outputs": []
    },
    {
      "cell_type": "code",
      "execution_count": null,
      "metadata": {
        "id": "lh8NKjtB1oJa"
      },
      "outputs": [],
      "source": [
        "y_pred = np.argmax(Y_pred, axis=1)\n",
        "confusion_mtx = confusion_matrix(y_pred, test_ds.classes)\n",
        "f,ax = plt.subplots(figsize=(12, 12))\n",
        "sns.heatmap(confusion_mtx, annot=True, \n",
        "            linewidths=0.01,\n",
        "            linecolor=\"white\", \n",
        "            fmt= '.1f',ax=ax,)\n",
        "sns.color_palette(\"rocket\", as_cmap=True)\n",
        "\n",
        "plt.xlabel(\"Predicted Label\")\n",
        "plt.ylabel(\"True Label\")\n",
        "ax.xaxis.set_ticklabels(test_ds.class_indices)\n",
        "ax.yaxis.set_ticklabels(image_class)\n",
        "plt.title(\"Confusion Matrix\")\n",
        "plt.show()"
      ]
    },
    {
      "cell_type": "code",
      "execution_count": null,
      "metadata": {
        "id": "GwFwI3pp2IVg"
      },
      "outputs": [],
      "source": [
        "report2 = classification_report(test_ds.classes, y_pred, target_names=image_class, output_dict=True)\n",
        "df2 = pd.DataFrame(report2).transpose()\n",
        "df2"
      ]
    },
    {
      "cell_type": "code",
      "execution_count": null,
      "metadata": {
        "id": "3nFLbHg9xBVw"
      },
      "outputs": [],
      "source": [
        "df2.to_csv(r'/content/drive/MyDrive/Colab Notebooks/deeplearning/dataset2.txt', header=True, index=True, sep = '\\t', mode='a')"
      ]
    }
  ],
  "metadata": {
    "accelerator": "GPU",
    "colab": {
      "collapsed_sections": [],
      "name": "imageclassification.ipynb",
      "provenance": [],
      "authorship_tag": "ABX9TyMekhqIxg4QI9W5kOLZguzL",
      "include_colab_link": true
    },
    "gpuClass": "standard",
    "kernelspec": {
      "display_name": "Python 3",
      "name": "python3"
    },
    "language_info": {
      "name": "python"
    }
  },
  "nbformat": 4,
  "nbformat_minor": 0
}