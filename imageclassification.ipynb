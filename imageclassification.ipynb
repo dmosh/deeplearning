{
  "cells": [
    {
      "cell_type": "markdown",
      "metadata": {
        "id": "view-in-github",
        "colab_type": "text"
      },
      "source": [
        "<a href=\"https://colab.research.google.com/github/dmosh/deeplearning/blob/main/imageclassification.ipynb\" target=\"_parent\"><img src=\"https://colab.research.google.com/assets/colab-badge.svg\" alt=\"Open In Colab\"/></a>"
      ]
    },
    {
      "cell_type": "code",
      "execution_count": null,
      "metadata": {
        "id": "4Xio51LPWtMI"
      },
      "outputs": [],
      "source": [
        "#importing the neccessary libraries\n",
        "import glob\n",
        "import cv2 as cv\n",
        "import pandas as pd\n",
        "import seaborn as sns\n",
        "\n",
        "import matplotlib.pyplot as plt\n",
        "import numpy as np\n",
        "import random\n",
        "import os\n",
        "from os import listdir\n",
        "from os.path import isfile, join\n",
        "import pathlib\n",
        "import splitfolders\n",
        "from sklearn.metrics import classification_report, confusion_matrix\n",
        "\n",
        "import tensorflow as tf\n",
        "from tensorflow import keras\n",
        "from keras.layers import Dense, Conv2D, MaxPool2D, Dropout, Flatten, BatchNormalization\n",
        "from keras.models import Sequential, load_model\n",
        "from keras.preprocessing.image import ImageDataGenerator\n",
        "from keras.callbacks import ModelCheckpoint, EarlyStopping, ReduceLROnPlateau\n",
        "from keras.applications.vgg16 import VGG16\n",
        "from google.colab import drive\n",
        "#!pip install split-folders"
      ]
    },
    {
      "cell_type": "code",
      "execution_count": null,
      "metadata": {
        "colab": {
          "base_uri": "https://localhost:8080/"
        },
        "id": "QICAeuYmDCZI",
        "outputId": "0214ff82-9c55-4b16-d592-f73fd754dab4"
      },
      "outputs": [
        {
          "output_type": "stream",
          "name": "stdout",
          "text": [
            "Mounted at /content/drive\n"
          ]
        }
      ],
      "source": [
        "#mount drive\n",
        "drive.mount(\"/content/drive\")"
      ]
    },
    {
      "cell_type": "code",
      "execution_count": null,
      "metadata": {
        "id": "rctmTXUBYaN-"
      },
      "outputs": [],
      "source": [
        "#load and read the images\n",
        "url = \"/content/drive/MyDrive/Colab Notebooks/deeplearning/dataset1/known_images\"\n",
        "image_dir = pathlib.Path(url)\n"
      ]
    },
    {
      "cell_type": "code",
      "execution_count": null,
      "metadata": {
        "colab": {
          "base_uri": "https://localhost:8080/"
        },
        "id": "dTmewEf2oSZf",
        "outputId": "d636cc59-8456-4772-8be4-08512302ddd5"
      },
      "outputs": [
        {
          "output_type": "stream",
          "name": "stderr",
          "text": [
            "Copying files: 715 files [00:08, 80.50 files/s] \n"
          ]
        }
      ],
      "source": [
        "splitfolders.ratio(image_dir, output='imgs', seed=123, ratio=(.8,.2), group_prefix=None)"
      ]
    },
    {
      "cell_type": "code",
      "execution_count": null,
      "metadata": {
        "id": "335LAhrnEJUA"
      },
      "outputs": [],
      "source": [
        "normal = [fn for fn in os.listdir(f'{image_dir}/normal') if fn.endswith('.png')]\n",
        "sick = [fn for fn in os.listdir(f'{image_dir}/sick') if fn.endswith('.png')]\n",
        "\n",
        "image = [normal, sick]\n",
        "image_class = []\n",
        "\n",
        "for i in os.listdir('imgs/train'):\n",
        "  image_class+=[i]\n",
        "image_class.sort()"
      ]
    },
    {
      "cell_type": "code",
      "execution_count": null,
      "metadata": {
        "colab": {
          "base_uri": "https://localhost:8080/"
        },
        "id": "zU76G7xqxecR",
        "outputId": "cf1bb496-c4ed-4083-c148-dab55460d268"
      },
      "outputs": [
        {
          "output_type": "stream",
          "name": "stdout",
          "text": [
            "Total images: 715\n",
            "Total number of classes: 2\n",
            "Total normal images: 364\n",
            "Total sick images: 351\n"
          ]
        }
      ],
      "source": [
        "image_count = len(list(image_dir.glob('*/*.png')))\n",
        "print(f'Total images: {image_count}')\n",
        "print(f'Total number of classes: {len(image_class)}')\n",
        "count = 0\n",
        "images_count = []\n",
        "for x in image_class:\n",
        "  print(f'Total {x} images: {len(image[count])}')\n",
        "  images_count.append(len(image[count]))\n",
        "  count += 1\n"
      ]
    },
    {
      "cell_type": "code",
      "execution_count": null,
      "metadata": {
        "id": "UbUQg29IVQqL"
      },
      "outputs": [],
      "source": [
        "def load_random_img(dir, label):\n",
        "  plt.figure(figsize=(10,10))\n",
        "  i=0\n",
        "  for label in image_class:\n",
        "    i+=1\n",
        "    plt.subplot(1, 5, i)\n",
        "    file = random.choice(os.listdir(f'{dir}/{label}'))\n",
        "    image_path = os.path.join(f'{dir}/{label}', file)\n",
        "    img=cv.imread(image_path)\n",
        "    plt.title(label)\n",
        "    plt.imshow(img)\n",
        "    plt.grid(None)\n",
        "    plt.axis('off')"
      ]
    },
    {
      "cell_type": "markdown",
      "metadata": {
        "id": "q-oScCUCZRhB"
      },
      "source": [
        "image preprocessing"
      ]
    },
    {
      "cell_type": "code",
      "execution_count": null,
      "metadata": {
        "id": "lt8V_9wWZQQB"
      },
      "outputs": [],
      "source": [
        "batch_size = 32\n",
        "img_height, img_width = 224, 224\n",
        "input_shape = (img_height, img_width, 3)"
      ]
    },
    {
      "cell_type": "code",
      "execution_count": null,
      "metadata": {
        "id": "s2FeC-CnZmSC"
      },
      "outputs": [],
      "source": [
        "datagen = ImageDataGenerator(rescale=1./255, featurewise_center=True, featurewise_std_normalization=True, \n",
        "                             zca_whitening=True, rotation_range=90)"
      ]
    },
    {
      "cell_type": "code",
      "execution_count": null,
      "metadata": {
        "colab": {
          "base_uri": "https://localhost:8080/"
        },
        "id": "O59r3WcVZ9Nr",
        "outputId": "7ac037af-b818-47d8-ffe9-9c77e26d3850"
      },
      "outputs": [
        {
          "output_type": "stream",
          "name": "stdout",
          "text": [
            "Found 571 images belonging to 2 classes.\n",
            "Found 144 images belonging to 2 classes.\n",
            "Found 50 images belonging to 2 classes.\n"
          ]
        }
      ],
      "source": [
        "train_ds = datagen.flow_from_directory(\n",
        "    'imgs/train',\n",
        "    target_size = (img_height, img_width),\n",
        "    batch_size = batch_size,\n",
        "    color_mode=\"rgb\",\n",
        "    subset = \"training\",\n",
        "    class_mode='categorical',\n",
        "    shuffle=True,\n",
        "    seed = 42)\n",
        "\n",
        "val_ds = datagen.flow_from_directory(\n",
        "    'imgs/val',\n",
        "    target_size = (img_height, img_width),\n",
        "    batch_size = batch_size,\n",
        "    color_mode=\"rgb\",\n",
        "    class_mode='categorical',\n",
        "    shuffle=False,\n",
        "    seed = 42)\n",
        "\n",
        "test_ds = datagen.flow_from_directory(\n",
        "    'imgs/test',\n",
        "    target_size = (img_height, img_width),\n",
        "    batch_size = 1,\n",
        "    color_mode=\"rgb\",\n",
        "    class_mode=None,\n",
        "    shuffle=False,\n",
        "    seed=42)\n",
        "\n"
      ]
    },
    {
      "cell_type": "code",
      "execution_count": null,
      "metadata": {
        "id": "Gio_ms29fBga"
      },
      "outputs": [],
      "source": [
        "def plot_train_history(history):\n",
        "    plt.figure(figsize=(15,5))\n",
        "    plt.subplot(1,2,1)\n",
        "    plt.plot(history.history['accuracy'])\n",
        "    plt.plot(history.history['val_accuracy'])\n",
        "    plt.title('Model accuracy')\n",
        "    plt.ylabel('accuracy')\n",
        "    plt.xlabel('epoch')\n",
        "    plt.legend(['train', 'validation'], loc='upper left')\n",
        "    \n",
        "    plt.subplot(1,2,2)\n",
        "    plt.plot(history.history['loss'])\n",
        "    plt.plot(history.history['val_loss'])\n",
        "    plt.title('Model loss')\n",
        "    plt.ylabel('loss')\n",
        "    plt.xlabel('epoch')\n",
        "    plt.legend(['train', 'validation'], loc='upper left')\n",
        "    plt.show()"
      ]
    },
    {
      "cell_type": "markdown",
      "metadata": {
        "id": "C1UljHVmz9B0"
      },
      "source": [
        "VGG16 Model"
      ]
    },
    {
      "cell_type": "code",
      "execution_count": null,
      "metadata": {
        "id": "4J8JLo8XceSk"
      },
      "outputs": [],
      "source": [
        "vgg16 = VGG16(weights=\"imagenet\", include_top=False, input_shape=input_shape)\n",
        "vgg16.trainable = False\n",
        "inputs = tf.keras.Input(input_shape)\n",
        "x = vgg16(inputs, training=False)\n",
        "x = tf.keras.layers.GlobalAveragePooling2D()(x)\n",
        "x = tf.keras.layers.Dense(1024, activation='relu')(x)\n",
        "x = tf.keras.layers.Dense(2, activation='softmax')(x)\n",
        "model_vgg16 = tf.keras.Model(inputs, x)"
      ]
    },
    {
      "cell_type": "code",
      "execution_count": null,
      "metadata": {
        "colab": {
          "base_uri": "https://localhost:8080/"
        },
        "id": "COBjjzi_d-7z",
        "outputId": "47557d8c-e46e-41ec-8f87-9523ff053ec5"
      },
      "outputs": [
        {
          "output_type": "stream",
          "name": "stdout",
          "text": [
            "Model: \"model_2\"\n",
            "_________________________________________________________________\n",
            " Layer (type)                Output Shape              Param #   \n",
            "=================================================================\n",
            " input_6 (InputLayer)        [(None, 224, 224, 3)]     0         \n",
            "                                                                 \n",
            " vgg16 (Functional)          (None, 7, 7, 512)         14714688  \n",
            "                                                                 \n",
            " global_average_pooling2d_2   (None, 512)              0         \n",
            " (GlobalAveragePooling2D)                                        \n",
            "                                                                 \n",
            " dense_4 (Dense)             (None, 1024)              525312    \n",
            "                                                                 \n",
            " dense_5 (Dense)             (None, 2)                 2050      \n",
            "                                                                 \n",
            "=================================================================\n",
            "Total params: 15,242,050\n",
            "Trainable params: 527,362\n",
            "Non-trainable params: 14,714,688\n",
            "_________________________________________________________________\n"
          ]
        }
      ],
      "source": [
        "model_vgg16.compile(optimizer='adam', loss='categorical_crossentropy', metrics=['accuracy'])\n",
        "model_vgg16.summary()"
      ]
    },
    {
      "cell_type": "code",
      "execution_count": null,
      "metadata": {
        "id": "Bp0_klH5eIN0"
      },
      "outputs": [],
      "source": [
        "checkpointer = ModelCheckpoint(filepath='/content/drive/MyDrive/Colab Notebooks/deeplearning/saved_models/cnn_model.hdf5', \n",
        "                               monitor='val_accuracy', mode='max',\n",
        "                               verbose=1, save_best_only=True)\n",
        "early_stopping = EarlyStopping(monitor='val_loss', mode='min', verbose=1, patience=3)\n",
        "reduce_lr = ReduceLROnPlateau(monitor='val_loss', factor=0.2,patience=2, min_lr=0.001)\n",
        "callbacks=[early_stopping, reduce_lr, checkpointer]"
      ]
    },
    {
      "cell_type": "code",
      "execution_count": null,
      "metadata": {
        "colab": {
          "base_uri": "https://localhost:8080/"
        },
        "id": "6H5A1Ackec_Y",
        "outputId": "0a3d787c-9466-4f1e-f778-0d5f2782cdcd"
      },
      "outputs": [
        {
          "output_type": "stream",
          "name": "stdout",
          "text": [
            "Epoch 1/30\n",
            "18/18 [==============================] - ETA: 0s - loss: 0.6680 - accuracy: 0.5832\n",
            "Epoch 1: val_accuracy improved from -inf to 0.78472, saving model to /content/drive/MyDrive/Colab Notebooks/deeplearning/saved_models/cnn_model.hdf5\n",
            "18/18 [==============================] - 13s 683ms/step - loss: 0.6680 - accuracy: 0.5832 - val_loss: 0.5416 - val_accuracy: 0.7847 - lr: 0.0010\n",
            "Epoch 2/30\n",
            "18/18 [==============================] - ETA: 0s - loss: 0.4894 - accuracy: 0.8074\n",
            "Epoch 2: val_accuracy improved from 0.78472 to 0.83333, saving model to /content/drive/MyDrive/Colab Notebooks/deeplearning/saved_models/cnn_model.hdf5\n",
            "18/18 [==============================] - 10s 535ms/step - loss: 0.4894 - accuracy: 0.8074 - val_loss: 0.4304 - val_accuracy: 0.8333 - lr: 0.0010\n",
            "Epoch 3/30\n",
            "18/18 [==============================] - ETA: 0s - loss: 0.3790 - accuracy: 0.8616\n",
            "Epoch 3: val_accuracy improved from 0.83333 to 0.88889, saving model to /content/drive/MyDrive/Colab Notebooks/deeplearning/saved_models/cnn_model.hdf5\n",
            "18/18 [==============================] - 11s 592ms/step - loss: 0.3790 - accuracy: 0.8616 - val_loss: 0.3487 - val_accuracy: 0.8889 - lr: 0.0010\n",
            "Epoch 4/30\n",
            "18/18 [==============================] - ETA: 0s - loss: 0.3150 - accuracy: 0.8967\n",
            "Epoch 4: val_accuracy did not improve from 0.88889\n",
            "18/18 [==============================] - 9s 518ms/step - loss: 0.3150 - accuracy: 0.8967 - val_loss: 0.3472 - val_accuracy: 0.8194 - lr: 0.0010\n",
            "Epoch 5/30\n",
            "18/18 [==============================] - ETA: 0s - loss: 0.3328 - accuracy: 0.8564\n",
            "Epoch 5: val_accuracy did not improve from 0.88889\n",
            "18/18 [==============================] - 9s 526ms/step - loss: 0.3328 - accuracy: 0.8564 - val_loss: 0.3877 - val_accuracy: 0.8194 - lr: 0.0010\n",
            "Epoch 6/30\n",
            "18/18 [==============================] - ETA: 0s - loss: 0.3086 - accuracy: 0.8616\n",
            "Epoch 6: val_accuracy improved from 0.88889 to 0.91667, saving model to /content/drive/MyDrive/Colab Notebooks/deeplearning/saved_models/cnn_model.hdf5\n",
            "18/18 [==============================] - 10s 574ms/step - loss: 0.3086 - accuracy: 0.8616 - val_loss: 0.2668 - val_accuracy: 0.9167 - lr: 0.0010\n",
            "Epoch 7/30\n",
            "18/18 [==============================] - ETA: 0s - loss: 0.2703 - accuracy: 0.9019\n",
            "Epoch 7: val_accuracy did not improve from 0.91667\n",
            "18/18 [==============================] - 9s 518ms/step - loss: 0.2703 - accuracy: 0.9019 - val_loss: 0.2726 - val_accuracy: 0.8750 - lr: 0.0010\n",
            "Epoch 8/30\n",
            "18/18 [==============================] - ETA: 0s - loss: 0.2456 - accuracy: 0.9072\n",
            "Epoch 8: val_accuracy did not improve from 0.91667\n",
            "18/18 [==============================] - 9s 520ms/step - loss: 0.2456 - accuracy: 0.9072 - val_loss: 0.2799 - val_accuracy: 0.8750 - lr: 0.0010\n",
            "Epoch 9/30\n",
            "18/18 [==============================] - ETA: 0s - loss: 0.2188 - accuracy: 0.9229\n",
            "Epoch 9: val_accuracy did not improve from 0.91667\n",
            "18/18 [==============================] - 9s 522ms/step - loss: 0.2188 - accuracy: 0.9229 - val_loss: 0.2487 - val_accuracy: 0.8750 - lr: 0.0010\n",
            "Epoch 10/30\n",
            "18/18 [==============================] - ETA: 0s - loss: 0.2272 - accuracy: 0.9142\n",
            "Epoch 10: val_accuracy did not improve from 0.91667\n",
            "18/18 [==============================] - 9s 522ms/step - loss: 0.2272 - accuracy: 0.9142 - val_loss: 0.2118 - val_accuracy: 0.9167 - lr: 0.0010\n",
            "Epoch 11/30\n",
            "18/18 [==============================] - ETA: 0s - loss: 0.2056 - accuracy: 0.9335\n",
            "Epoch 11: val_accuracy did not improve from 0.91667\n",
            "18/18 [==============================] - 9s 524ms/step - loss: 0.2056 - accuracy: 0.9335 - val_loss: 0.2558 - val_accuracy: 0.8958 - lr: 0.0010\n",
            "Epoch 12/30\n",
            "18/18 [==============================] - ETA: 0s - loss: 0.2099 - accuracy: 0.9282\n",
            "Epoch 12: val_accuracy improved from 0.91667 to 0.92361, saving model to /content/drive/MyDrive/Colab Notebooks/deeplearning/saved_models/cnn_model.hdf5\n",
            "18/18 [==============================] - 24s 1s/step - loss: 0.2099 - accuracy: 0.9282 - val_loss: 0.2295 - val_accuracy: 0.9236 - lr: 0.0010\n",
            "Epoch 13/30\n",
            "18/18 [==============================] - ETA: 0s - loss: 0.1983 - accuracy: 0.9299\n",
            "Epoch 13: val_accuracy did not improve from 0.92361\n",
            "18/18 [==============================] - 9s 518ms/step - loss: 0.1983 - accuracy: 0.9299 - val_loss: 0.2140 - val_accuracy: 0.9028 - lr: 0.0010\n",
            "Epoch 13: early stopping\n"
          ]
        }
      ],
      "source": [
        "learning1 = model_vgg16.fit(train_ds, epochs = 30, validation_data = val_ds, callbacks=callbacks)"
      ]
    },
    {
      "cell_type": "code",
      "execution_count": null,
      "metadata": {
        "colab": {
          "base_uri": "https://localhost:8080/",
          "height": 341
        },
        "id": "0gEoM7C1spl0",
        "outputId": "4e1df499-5efa-4160-bb0e-27abd8268230"
      },
      "outputs": [
        {
          "output_type": "display_data",
          "data": {
            "text/plain": [
              "<Figure size 1080x360 with 2 Axes>"
            ],
            "image/png": "[encoded data removed]"
          },
          "metadata": {
            "needs_background": "light"
          }
        }
      ],
      "source": [
        "model_vgg16.load_weights('/content/drive/MyDrive/Colab Notebooks/deeplearning/saved_models/cnn_model.hdf5')\n",
        "plot_train_history(learning1)"
      ]
    },
    {
      "cell_type": "code",
      "execution_count": null,
      "metadata": {
        "colab": {
          "base_uri": "https://localhost:8080/"
        },
        "id": "H2OFg13htyyn",
        "outputId": "46d33c34-6ba9-4c5d-bd90-e13459f0e378"
      },
      "outputs": [
        {
          "output_type": "stream",
          "name": "stdout",
          "text": [
            "50/50 [==============================] - 2s 28ms/step - loss: 0.0000e+00 - accuracy: 0.0000e+00\n",
            "Model 2 VGG16 Loss: 0.0, Accuracy: 0.0\n"
          ]
        }
      ],
      "source": [
        "score1 = model_vgg16.evaluate(test_ds, verbose=1)\n",
        "print(f'Model 2 VGG16 Loss: {score1[0]}, Accuracy: {score1[1]*100}')"
      ]
    },
    {
      "cell_type": "markdown",
      "metadata": {
        "id": "ci-RkhG4urLJ"
      },
      "source": [
        "Finetune the model"
      ]
    },
    {
      "cell_type": "code",
      "execution_count": null,
      "metadata": {
        "id": "kCLJysByuqHr"
      },
      "outputs": [],
      "source": [
        "vgg16.trainable = True\n",
        "model_vgg16.compile(optimizer=keras.optimizers.Adam(1e-5),\n",
        "              loss='categorical_crossentropy', metrics=['accuracy'])"
      ]
    },
    {
      "cell_type": "code",
      "execution_count": null,
      "metadata": {
        "colab": {
          "base_uri": "https://localhost:8080/"
        },
        "id": "GRdNPhUyuww_",
        "outputId": "920ec524-faab-48ef-a5e9-f1fc0c652e31"
      },
      "outputs": [
        {
          "output_type": "stream",
          "name": "stdout",
          "text": [
            "Epoch 1/20\n",
            "18/18 [==============================] - ETA: 0s - loss: 0.2330 - accuracy: 0.9054\n",
            "Epoch 1: val_accuracy did not improve from 0.92361\n",
            "18/18 [==============================] - 21s 850ms/step - loss: 0.2330 - accuracy: 0.9054 - val_loss: 0.2066 - val_accuracy: 0.9097 - lr: 1.0000e-05\n",
            "Epoch 2/20\n",
            "18/18 [==============================] - ETA: 0s - loss: 0.1458 - accuracy: 0.9440\n",
            "Epoch 2: val_accuracy improved from 0.92361 to 0.94444, saving model to /content/drive/MyDrive/Colab Notebooks/deeplearning/saved_models/cnn_model.hdf5\n",
            "18/18 [==============================] - 12s 662ms/step - loss: 0.1458 - accuracy: 0.9440 - val_loss: 0.1399 - val_accuracy: 0.9444 - lr: 1.0000e-05\n",
            "Epoch 3/20\n",
            "18/18 [==============================] - ETA: 0s - loss: 0.1063 - accuracy: 0.9685\n",
            "Epoch 3: val_accuracy improved from 0.94444 to 0.95833, saving model to /content/drive/MyDrive/Colab Notebooks/deeplearning/saved_models/cnn_model.hdf5\n",
            "18/18 [==============================] - 15s 816ms/step - loss: 0.1063 - accuracy: 0.9685 - val_loss: 0.1056 - val_accuracy: 0.9583 - lr: 1.0000e-05\n",
            "Epoch 4/20\n",
            "18/18 [==============================] - ETA: 0s - loss: 0.0744 - accuracy: 0.9720\n",
            "Epoch 4: val_accuracy did not improve from 0.95833\n",
            "18/18 [==============================] - 12s 657ms/step - loss: 0.0744 - accuracy: 0.9720 - val_loss: 0.1711 - val_accuracy: 0.9167 - lr: 1.0000e-05\n",
            "Epoch 5/20\n",
            "18/18 [==============================] - ETA: 0s - loss: 0.0785 - accuracy: 0.9667\n",
            "Epoch 5: val_accuracy did not improve from 0.95833\n",
            "18/18 [==============================] - 12s 631ms/step - loss: 0.0785 - accuracy: 0.9667 - val_loss: 0.0886 - val_accuracy: 0.9583 - lr: 1.0000e-05\n",
            "Epoch 6/20\n",
            "18/18 [==============================] - ETA: 0s - loss: 0.0873 - accuracy: 0.9650\n",
            "Epoch 6: val_accuracy did not improve from 0.95833\n",
            "18/18 [==============================] - 11s 630ms/step - loss: 0.0873 - accuracy: 0.9650 - val_loss: 0.1112 - val_accuracy: 0.9444 - lr: 1.0000e-05\n",
            "Epoch 7/20\n",
            "18/18 [==============================] - ETA: 0s - loss: 0.0627 - accuracy: 0.9790\n",
            "Epoch 7: val_accuracy improved from 0.95833 to 0.96528, saving model to /content/drive/MyDrive/Colab Notebooks/deeplearning/saved_models/cnn_model.hdf5\n",
            "18/18 [==============================] - 14s 761ms/step - loss: 0.0627 - accuracy: 0.9790 - val_loss: 0.0998 - val_accuracy: 0.9653 - lr: 1.0000e-05\n",
            "Epoch 8/20\n",
            "18/18 [==============================] - ETA: 0s - loss: 0.0773 - accuracy: 0.9755\n",
            "Epoch 8: val_accuracy did not improve from 0.96528\n",
            "18/18 [==============================] - 12s 653ms/step - loss: 0.0773 - accuracy: 0.9755 - val_loss: 0.0767 - val_accuracy: 0.9653 - lr: 1.0000e-05\n",
            "Epoch 9/20\n",
            "18/18 [==============================] - ETA: 0s - loss: 0.0758 - accuracy: 0.9737\n",
            "Epoch 9: val_accuracy improved from 0.96528 to 0.97222, saving model to /content/drive/MyDrive/Colab Notebooks/deeplearning/saved_models/cnn_model.hdf5\n",
            "18/18 [==============================] - 14s 760ms/step - loss: 0.0758 - accuracy: 0.9737 - val_loss: 0.0676 - val_accuracy: 0.9722 - lr: 1.0000e-05\n",
            "Epoch 10/20\n",
            "18/18 [==============================] - ETA: 0s - loss: 0.0532 - accuracy: 0.9737\n",
            "Epoch 10: val_accuracy improved from 0.97222 to 0.97917, saving model to /content/drive/MyDrive/Colab Notebooks/deeplearning/saved_models/cnn_model.hdf5\n",
            "18/18 [==============================] - 13s 693ms/step - loss: 0.0532 - accuracy: 0.9737 - val_loss: 0.0455 - val_accuracy: 0.9792 - lr: 1.0000e-05\n",
            "Epoch 11/20\n",
            "18/18 [==============================] - ETA: 0s - loss: 0.0368 - accuracy: 0.9895\n",
            "Epoch 11: val_accuracy improved from 0.97917 to 0.98611, saving model to /content/drive/MyDrive/Colab Notebooks/deeplearning/saved_models/cnn_model.hdf5\n",
            "18/18 [==============================] - 12s 688ms/step - loss: 0.0368 - accuracy: 0.9895 - val_loss: 0.0477 - val_accuracy: 0.9861 - lr: 1.0000e-05\n",
            "Epoch 12/20\n",
            "18/18 [==============================] - ETA: 0s - loss: 0.0277 - accuracy: 0.9912\n",
            "Epoch 12: val_accuracy did not improve from 0.98611\n",
            "18/18 [==============================] - 12s 657ms/step - loss: 0.0277 - accuracy: 0.9912 - val_loss: 0.0797 - val_accuracy: 0.9722 - lr: 1.0000e-05\n",
            "Epoch 13/20\n",
            "18/18 [==============================] - ETA: 0s - loss: 0.0200 - accuracy: 0.9930\n",
            "Epoch 13: val_accuracy did not improve from 0.98611\n",
            "18/18 [==============================] - 12s 635ms/step - loss: 0.0200 - accuracy: 0.9930 - val_loss: 0.1113 - val_accuracy: 0.9583 - lr: 1.0000e-05\n",
            "Epoch 13: early stopping\n"
          ]
        }
      ],
      "source": [
        "learning2 = model_vgg16.fit(train_ds, epochs = 20, validation_data = val_ds, callbacks=callbacks)"
      ]
    },
    {
      "cell_type": "code",
      "execution_count": null,
      "metadata": {
        "id": "EZqC_v2vvkpf"
      },
      "outputs": [],
      "source": [
        "model_vgg16.load_weights('/content/drive/MyDrive/Colab Notebooks/deeplearning/saved_models/cnn_model.hdf5')"
      ]
    },
    {
      "cell_type": "code",
      "execution_count": null,
      "metadata": {
        "colab": {
          "base_uri": "https://localhost:8080/"
        },
        "id": "Lh7ypS0u1QB8",
        "outputId": "703b6dd5-4346-44f4-be20-f30dc7412b0d"
      },
      "outputs": [
        {
          "output_type": "stream",
          "name": "stdout",
          "text": [
            "50/50 [==============================] - 2s 15ms/step\n",
            "Model 2 VGG16 Loss: 0.0, Accuracy: 0.0\n",
            "Model 2 VGG16 Fine-tuned Loss: [0.99839944 0.00160054], Accuracy: [5.0130143e-06 1.0000000e+02]\n"
          ]
        }
      ],
      "source": [
        "score2 = model_vgg16.predict(test_ds, verbose=1)\n",
        "#print(f'Model 1 Vanilla Loss: {score1[0]}, Accuracy: {score1[1]*100}')\n",
        "print(f'Model 2 VGG16 Loss: {score1[0]}, Accuracy: {score1[1]*100}')\n",
        "print(f'Model 2 VGG16 Fine-tuned Loss: {score2[0]}, Accuracy: {score2[1]*100}')"
      ]
    },
    {
      "cell_type": "code",
      "execution_count": null,
      "metadata": {
        "id": "yVfvM3Xf1fn9"
      },
      "outputs": [],
      "source": [
        "Y_pred = model_vgg16.predict(test_ds)"
      ]
    },
    {
      "cell_type": "code",
      "source": [
        "predicted_class_indices=np.argmax(Y_pred,axis=1)"
      ],
      "metadata": {
        "id": "Z2NBIYpQ4ZkO"
      },
      "execution_count": null,
      "outputs": []
    },
    {
      "cell_type": "code",
      "source": [
        "labels = (train_ds.class_indices)\n",
        "labels = dict((v,k) for k,v in labels.items())\n",
        "predictions = [labels[k] for k in predicted_class_indices]"
      ],
      "metadata": {
        "id": "Cyx4ksyi4g_S"
      },
      "execution_count": null,
      "outputs": []
    },
    {
      "cell_type": "code",
      "source": [
        "filenames=test_ds.filenames\n",
        "results=pd.DataFrame({\"Filename\":filenames,\n",
        "                      \"Predictions\":predictions})\n",
        "results.to_csv(\"/content/drive/MyDrive/Colab Notebooks/deeplearning/Unkown_Image_pred.csv\",index=False, header=[\"Epuret Moses Obuya\", \"2021/HD05/2291\"])"
      ],
      "metadata": {
        "id": "KweyLs5G4pYG"
      },
      "execution_count": null,
      "outputs": []
    },
    {
      "cell_type": "code",
      "execution_count": null,
      "metadata": {
        "colab": {
          "base_uri": "https://localhost:8080/",
          "height": 731
        },
        "id": "lh8NKjtB1oJa",
        "outputId": "c6d74269-4950-457a-87ca-6ed4a2b3a29d"
      },
      "outputs": [
        {
          "output_type": "display_data",
          "data": {
            "text/plain": [
              "<Figure size 864x864 with 2 Axes>"
            ],
            "image/png": "[encoded data removed]"
          },
          "metadata": {
            "needs_background": "light"
          }
        }
      ],
      "source": [
        "y_pred = np.argmax(Y_pred, axis=1)\n",
        "confusion_mtx = confusion_matrix(y_pred, test_ds.classes)\n",
        "f,ax = plt.subplots(figsize=(12, 12))\n",
        "sns.heatmap(confusion_mtx, annot=True, \n",
        "            linewidths=0.01,\n",
        "            linecolor=\"white\", \n",
        "            fmt= '.1f',ax=ax,)\n",
        "sns.color_palette(\"rocket\", as_cmap=True)\n",
        "\n",
        "plt.xlabel(\"Predicted Label\")\n",
        "plt.ylabel(\"True Label\")\n",
        "ax.xaxis.set_ticklabels(test_ds.class_indices)\n",
        "ax.yaxis.set_ticklabels(image_class)\n",
        "plt.title(\"Confusion Matrix\")\n",
        "plt.show()"
      ]
    },
    {
      "cell_type": "code",
      "execution_count": null,
      "metadata": {
        "colab": {
          "base_uri": "https://localhost:8080/",
          "height": 330
        },
        "id": "GwFwI3pp2IVg",
        "outputId": "529ac297-589d-4d66-8c18-e4f23f0564fd"
      },
      "outputs": [
        {
          "output_type": "stream",
          "name": "stderr",
          "text": [
            "/usr/local/lib/python3.7/dist-packages/sklearn/metrics/_classification.py:1318: UndefinedMetricWarning: Recall and F-score are ill-defined and being set to 0.0 in labels with no true samples. Use `zero_division` parameter to control this behavior.\n",
            "  _warn_prf(average, modifier, msg_start, len(result))\n",
            "/usr/local/lib/python3.7/dist-packages/sklearn/metrics/_classification.py:1318: UndefinedMetricWarning: Recall and F-score are ill-defined and being set to 0.0 in labels with no true samples. Use `zero_division` parameter to control this behavior.\n",
            "  _warn_prf(average, modifier, msg_start, len(result))\n",
            "/usr/local/lib/python3.7/dist-packages/sklearn/metrics/_classification.py:1318: UndefinedMetricWarning: Recall and F-score are ill-defined and being set to 0.0 in labels with no true samples. Use `zero_division` parameter to control this behavior.\n",
            "  _warn_prf(average, modifier, msg_start, len(result))\n"
          ]
        },
        {
          "output_type": "execute_result",
          "data": {
            "text/plain": [
              "              precision    recall  f1-score     support\n",
              "normal         0.000000  0.000000  0.000000    0.000000\n",
              "sick           1.000000  0.946188  0.972350  223.000000\n",
              "accuracy       0.946188  0.946188  0.946188    0.946188\n",
              "macro avg      0.500000  0.473094  0.486175  223.000000\n",
              "weighted avg   1.000000  0.946188  0.972350  223.000000"
            ],
            "text/html": [
              "\n",
              "  <div id=\"df-e633f608-fd84-43e3-8b3b-7eab3accafd6\">\n",
              "    <div class=\"colab-df-container\">\n",
              "      <div>\n",
              "<style scoped>\n",
              "    .dataframe tbody tr th:only-of-type {\n",
              "        vertical-align: middle;\n",
              "    }\n",
              "\n",
              "    .dataframe tbody tr th {\n",
              "        vertical-align: top;\n",
              "    }\n",
              "\n",
              "    .dataframe thead th {\n",
              "        text-align: right;\n",
              "    }\n",
              "</style>\n",
              "<table border=\"1\" class=\"dataframe\">\n",
              "  <thead>\n",
              "    <tr style=\"text-align: right;\">\n",
              "      <th></th>\n",
              "      <th>precision</th>\n",
              "      <th>recall</th>\n",
              "      <th>f1-score</th>\n",
              "      <th>support</th>\n",
              "    </tr>\n",
              "  </thead>\n",
              "  <tbody>\n",
              "    <tr>\n",
              "      <th>normal</th>\n",
              "      <td>0.000000</td>\n",
              "      <td>0.000000</td>\n",
              "      <td>0.000000</td>\n",
              "      <td>0.000000</td>\n",
              "    </tr>\n",
              "    <tr>\n",
              "      <th>sick</th>\n",
              "      <td>1.000000</td>\n",
              "      <td>0.946188</td>\n",
              "      <td>0.972350</td>\n",
              "      <td>223.000000</td>\n",
              "    </tr>\n",
              "    <tr>\n",
              "      <th>accuracy</th>\n",
              "      <td>0.946188</td>\n",
              "      <td>0.946188</td>\n",
              "      <td>0.946188</td>\n",
              "      <td>0.946188</td>\n",
              "    </tr>\n",
              "    <tr>\n",
              "      <th>macro avg</th>\n",
              "      <td>0.500000</td>\n",
              "      <td>0.473094</td>\n",
              "      <td>0.486175</td>\n",
              "      <td>223.000000</td>\n",
              "    </tr>\n",
              "    <tr>\n",
              "      <th>weighted avg</th>\n",
              "      <td>1.000000</td>\n",
              "      <td>0.946188</td>\n",
              "      <td>0.972350</td>\n",
              "      <td>223.000000</td>\n",
              "    </tr>\n",
              "  </tbody>\n",
              "</table>\n",
              "</div>\n",
              "      <button class=\"colab-df-convert\" onclick=\"convertToInteractive('df-e633f608-fd84-43e3-8b3b-7eab3accafd6')\"\n",
              "              title=\"Convert this dataframe to an interactive table.\"\n",
              "              style=\"display:none;\">\n",
              "        \n",
              "  <svg xmlns=\"http://www.w3.org/2000/svg\" height=\"24px\"viewBox=\"0 0 24 24\"\n",
              "       width=\"24px\">\n",
              "    <path d=\"M0 0h24v24H0V0z\" fill=\"none\"/>\n",
              "    <path d=\"M18.56 5.44l.94 2.06.94-2.06 2.06-.94-2.06-.94-.94-2.06-.94 2.06-2.06.94zm-11 1L8.5 8.5l.94-2.06 2.06-.94-2.06-.94L8.5 2.5l-.94 2.06-2.06.94zm10 10l.94 2.06.94-2.06 2.06-.94-2.06-.94-.94-2.06-.94 2.06-2.06.94z\"/><path d=\"M17.41 7.96l-1.37-1.37c-.4-.4-.92-.59-1.43-.59-.52 0-1.04.2-1.43.59L10.3 9.45l-7.72 7.72c-.78.78-.78 2.05 0 2.83L4 21.41c.39.39.9.59 1.41.59.51 0 1.02-.2 1.41-.59l7.78-7.78 2.81-2.81c.8-.78.8-2.07 0-2.86zM5.41 20L4 18.59l7.72-7.72 1.47 1.35L5.41 20z\"/>\n",
              "  </svg>\n",
              "      </button>\n",
              "      \n",
              "  <style>\n",
              "    .colab-df-container {\n",
              "      display:flex;\n",
              "      flex-wrap:wrap;\n",
              "      gap: 12px;\n",
              "    }\n",
              "\n",
              "    .colab-df-convert {\n",
              "      background-color: #E8F0FE;\n",
              "      border: none;\n",
              "      border-radius: 50%;\n",
              "      cursor: pointer;\n",
              "      display: none;\n",
              "      fill: #1967D2;\n",
              "      height: 32px;\n",
              "      padding: 0 0 0 0;\n",
              "      width: 32px;\n",
              "    }\n",
              "\n",
              "    .colab-df-convert:hover {\n",
              "      background-color: #E2EBFA;\n",
              "      box-shadow: 0px 1px 2px rgba(60, 64, 67, 0.3), 0px 1px 3px 1px rgba(60, 64, 67, 0.15);\n",
              "      fill: #174EA6;\n",
              "    }\n",
              "\n",
              "    [theme=dark] .colab-df-convert {\n",
              "      background-color: #3B4455;\n",
              "      fill: #D2E3FC;\n",
              "    }\n",
              "\n",
              "    [theme=dark] .colab-df-convert:hover {\n",
              "      background-color: #434B5C;\n",
              "      box-shadow: 0px 1px 3px 1px rgba(0, 0, 0, 0.15);\n",
              "      filter: drop-shadow(0px 1px 2px rgba(0, 0, 0, 0.3));\n",
              "      fill: #FFFFFF;\n",
              "    }\n",
              "  </style>\n",
              "\n",
              "      <script>\n",
              "        const buttonEl =\n",
              "          document.querySelector('#df-e633f608-fd84-43e3-8b3b-7eab3accafd6 button.colab-df-convert');\n",
              "        buttonEl.style.display =\n",
              "          google.colab.kernel.accessAllowed ? 'block' : 'none';\n",
              "\n",
              "        async function convertToInteractive(key) {\n",
              "          const element = document.querySelector('#df-e633f608-fd84-43e3-8b3b-7eab3accafd6');\n",
              "          const dataTable =\n",
              "            await google.colab.kernel.invokeFunction('convertToInteractive',\n",
              "                                                     [key], {});\n",
              "          if (!dataTable) return;\n",
              "\n",
              "          const docLinkHtml = 'Like what you see? Visit the ' +\n",
              "            '<a target=\"_blank\" href=https://colab.research.google.com/notebooks/data_table.ipynb>data table notebook</a>'\n",
              "            + ' to learn more about interactive tables.';\n",
              "          element.innerHTML = '';\n",
              "          dataTable['output_type'] = 'display_data';\n",
              "          await google.colab.output.renderOutput(dataTable, element);\n",
              "          const docLink = document.createElement('div');\n",
              "          docLink.innerHTML = docLinkHtml;\n",
              "          element.appendChild(docLink);\n",
              "        }\n",
              "      </script>\n",
              "    </div>\n",
              "  </div>\n",
              "  "
            ]
          },
          "metadata": {},
          "execution_count": 33
        }
      ],
      "source": [
        "report2 = classification_report(test_ds.classes, y_pred, target_names=image_class, output_dict=True)\n",
        "df2 = pd.DataFrame(report2).transpose()\n",
        "df2"
      ]
    },
    {
      "cell_type": "code",
      "execution_count": null,
      "metadata": {
        "id": "3nFLbHg9xBVw"
      },
      "outputs": [],
      "source": [
        "df2.to_csv(r'/content/drive/MyDrive/Colab Notebooks/deeplearning/dataset2.txt', header=True, index=True, sep = '\\t', mode='a')"
      ]
    }
  ],
  "metadata": {
    "accelerator": "GPU",
    "colab": {
      "collapsed_sections": [],
      "name": "imageclassification.ipynb",
      "provenance": [],
      "authorship_tag": "ABX9TyNO1hrcYGmjc5Mj8tII46B7",
      "include_colab_link": true
    },
    "gpuClass": "standard",
    "kernelspec": {
      "display_name": "Python 3",
      "name": "python3"
    },
    "language_info": {
      "name": "python"
    }
  },
  "nbformat": 4,
  "nbformat_minor": 0
}